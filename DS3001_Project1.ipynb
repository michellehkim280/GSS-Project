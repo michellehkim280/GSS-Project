{
 "cells": [
  {
   "cell_type": "markdown",
   "id": "bd2c76c7-c97f-4a28-a1f9-e1a5de6ece70",
   "metadata": {},
   "source": [
    "# Analysis of Gender Wage Gap - DS 3001 \n",
    "## Michelle Kim, Michael McGeachy, Millie Pandya, Cara Seely"
   ]
  },
  {
   "cell_type": "markdown",
   "id": "526fd9ca-2012-4be4-b7b6-51e71bd6b249",
   "metadata": {},
   "source": [
    "# Summary\n",
    "\n",
    "For this project, our question of interest was what is the influence of age, education, and marital status upon the gender wage gap, as measured by income. This has been an area of increasing interest, and understanding its influencing factors is important for rectifying this disparity. We sourced data from the General Social Survey, and cleaned the corresponding data columns to facilitate our analysis, a process documented later in this paper. Final visualizations included a series of bar graphs and kernel density plots, coupled with statistical comparisons between the variables of interest and a baseline figure we computed to begin our analysis. To ensure thoroughness, each variable was broken down into each of its constituent categories to see where the wage gap was the most impactful. The age component demonstrated a general trend that younger professionals exhibited less of a gap than older age cohorts, at only 9% compared to a 19.8% baseline. Those that were either married, never married, or divorced also fared a smaller gap when compared to their married or widowed counterparts. Finally, looking at education found the largest gap was found among the lowest levels of education, a trend that decreased as the level of education attained increased. Overall, those who are widowed, very old, or received the lowest education were found to suffer the most from the gender wage gap, with it being likely there is some overlap between the very old and widowed findings given the tendency for women to live longer than men. "
   ]
  },
  {
   "cell_type": "markdown",
   "id": "24159314-a891-42d6-a3fe-48105ee521ea",
   "metadata": {},
   "source": [
    "# Data Cleaning"
   ]
  },
  {
   "cell_type": "code",
   "execution_count": null,
   "id": "a6c3f45d-c94d-478b-8d63-321f65c076ac",
   "metadata": {},
   "outputs": [],
   "source": [
    "! git clone https://github.com/DS3001/project_gss\n",
    "import numpy as np\n",
    "import pandas as pd\n",
    "import matplotlib.pyplot as plt\n",
    "import seaborn as sns\n",
    "import os\n",
    "from sklearn.model_selection import train_test_split\n",
    "from sklearn.metrics import mean_squared_error\n",
    "from sklearn.neighbors import KNeighborsRegressor"
   ]
  },
  {
   "cell_type": "code",
   "execution_count": null,
   "id": "c043328a-d454-4e89-af8a-20ddabd2121d",
   "metadata": {},
   "outputs": [],
   "source": [
    "var_list = ['wrkstat', 'prestige'] # List of variables you want to save\n",
    "output_filename = 'selected_gss_data.csv' # Name of the file you want to save the data to\n",
    "\n",
    "modes = ['w','a'] # Has write mode and append mode\n",
    "phase = 0 # Starts in write mode; after one iteration of loop, switches to append mode\n",
    "\n",
    "for k in range(3): # for each chunk of the data\n",
    "    url = 'https://github.com/DS3001/project_gss/raw/main/gss_chunk_' + str(1+k) + '.parquet' # Create url to the chunk to be processed\n",
    "    #print(url) # Check the url is correct\n",
    "    df = pd.read_parquet(url) # Download this chunk of data\n",
    "    #print(df.head()) # Visually inspect the first few rows\n",
    "\n",
    "    phase = 1 # Switch from write mode to append mode\n",
    "\n",
    "print(df.shape)\n",
    "df.columns\n",
    "# 6694 columns/variables"
   ]
  },
  {
   "cell_type": "code",
   "execution_count": 7,
   "id": "cc675b83-c328-439d-b0ae-0b16be5bf016",
   "metadata": {},
   "outputs": [
    {
     "name": "stdout",
     "output_type": "stream",
     "text": [
      "        age     sex   race                    degree health         happy  \\\n",
      "24125  22.0  female  white               high school   good  pretty happy   \n",
      "24126  29.0  female  white                  graduate   good  pretty happy   \n",
      "24127  32.0    male  white  associate/junior college   good  pretty happy   \n",
      "24128  49.0  female  white                  graduate   good    very happy   \n",
      "24129  50.0    male  white                  graduate   fair  pretty happy   \n",
      "\n",
      "             marital                             martype  agewed  hrs2  \\\n",
      "24125  never married                                 NaN     NaN   NaN   \n",
      "24126        married                                 NaN     NaN   NaN   \n",
      "24127  never married                                 NaN     NaN   NaN   \n",
      "24128        married  marriage between a man and a woman     NaN   NaN   \n",
      "24129        married  marriage between a man and a woman     NaN   NaN   \n",
      "\n",
      "       indus10  agekdbrn  childs          class              income16  \n",
      "24125   8660.0       NaN     0.0    lower class    $25,000 to $29,999  \n",
      "24126   8190.0      25.0     2.0  working class    $60,000 to $74,999  \n",
      "24127   8190.0      28.0     1.0   middle class  $130,000 to $149,999  \n",
      "24128   7860.0       NaN     0.0   middle class  $150,000 to $169,999  \n",
      "24129   9170.0      42.0     1.0   middle class   $90,000 to $109,999  \n",
      "['age', 'sex', 'race', 'degree', 'health', 'happy', 'marital', 'martype', 'agewed', 'hrs2', 'indus10', 'agekdbrn', 'childs', 'class', 'income16']\n"
     ]
    }
   ],
   "source": [
    "# Creating new data frame with certain, potentially relevant variables\n",
    "df2 = df[['age', 'sex', 'race', 'degree', 'health', 'happy',\n",
    "          'marital', 'martype', 'agewed', 'hrs2', 'indus10',\n",
    "          'agekdbrn', 'childs', 'class', 'income16']]\n",
    "#print(df2.dtypes, '\\n')\n",
    "print(df2.tail())\n",
    "print(list(df2.columns))\n",
    "\n",
    "#df2 = df.copy()\n",
    "# age (N)\n",
    "# sex (C) : male or female\n",
    "# race (C)\n",
    "# degree (C)\n",
    "# health (C) : poor, fair, good, excellent\n",
    "# happy (C) : level\n",
    "# marital (C) : status\n",
    "# martype (C) : type of marriage\n",
    "# agewed (N) : age married\n",
    "# wrkstat : part-time, full-time, school, keeping house\n",
    "# hrs2 (N) : typical weekly hrs worked\n",
    "# wrkslf (C) : self employed?\n",
    "# wrkgovt1 (C) : government employeed\n",
    "# wrkgovt2 (C) : private employeed\n",
    "# whatslf2 (C) : work place classification\n",
    "# ind10 (N) : work industry\n",
    "# agekdbrn (N) : age when 1st kd born\n",
    "# childs (N) : # of kids\n",
    "# class (C) : economic (self-evaluated)\n",
    "# income16 (N) : range total family income"
   ]
  },
  {
   "cell_type": "code",
   "execution_count": 9,
   "id": "e51ded65-c18e-49ee-9fdc-e7328346044e",
   "metadata": {},
   "outputs": [
    {
     "name": "stderr",
     "output_type": "stream",
     "text": [
      "<ipython-input-9-ea4df7860a43>:2: SettingWithCopyWarning: \n",
      "A value is trying to be set on a copy of a slice from a DataFrame.\n",
      "Try using .loc[row_indexer,col_indexer] = value instead\n",
      "\n",
      "See the caveats in the documentation: https://pandas.pydata.org/pandas-docs/stable/user_guide/indexing.html#returning-a-view-versus-a-copy\n",
      "  df2['sex'] = df['sex'].apply(lambda x: x if x in ['male', 'female'] else pd.NA)\n",
      "<ipython-input-9-ea4df7860a43>:7: SettingWithCopyWarning: \n",
      "A value is trying to be set on a copy of a slice from a DataFrame.\n",
      "Try using .loc[row_indexer,col_indexer] = value instead\n",
      "\n",
      "See the caveats in the documentation: https://pandas.pydata.org/pandas-docs/stable/user_guide/indexing.html#returning-a-view-versus-a-copy\n",
      "  df2['race'] = df['race'].apply(lambda x: x if x in ['white', 'black', 'other'] else pd.NA)\n",
      "<ipython-input-9-ea4df7860a43>:11: SettingWithCopyWarning: \n",
      "A value is trying to be set on a copy of a slice from a DataFrame.\n",
      "Try using .loc[row_indexer,col_indexer] = value instead\n",
      "\n",
      "See the caveats in the documentation: https://pandas.pydata.org/pandas-docs/stable/user_guide/indexing.html#returning-a-view-versus-a-copy\n",
      "  df2['degree'] = df['degree'].apply(lambda x: x if x in ['high school', \"bachelors\",\n",
      "<ipython-input-9-ea4df7860a43>:16: SettingWithCopyWarning: \n",
      "A value is trying to be set on a copy of a slice from a DataFrame.\n",
      "Try using .loc[row_indexer,col_indexer] = value instead\n",
      "\n",
      "See the caveats in the documentation: https://pandas.pydata.org/pandas-docs/stable/user_guide/indexing.html#returning-a-view-versus-a-copy\n",
      "  df2['health'] = df['health'].apply(lambda x: x if x in ['poor', 'fair', 'excellent', 'good'] else pd.NA)\n",
      "<ipython-input-9-ea4df7860a43>:20: SettingWithCopyWarning: \n",
      "A value is trying to be set on a copy of a slice from a DataFrame.\n",
      "Try using .loc[row_indexer,col_indexer] = value instead\n",
      "\n",
      "See the caveats in the documentation: https://pandas.pydata.org/pandas-docs/stable/user_guide/indexing.html#returning-a-view-versus-a-copy\n",
      "  df2['happy'] = df['happy'].apply(lambda x: x if x in ['very happy', 'pretty happy', 'not too happy'] else pd.NA)\n",
      "<ipython-input-9-ea4df7860a43>:23: SettingWithCopyWarning: \n",
      "A value is trying to be set on a copy of a slice from a DataFrame.\n",
      "Try using .loc[row_indexer,col_indexer] = value instead\n",
      "\n",
      "See the caveats in the documentation: https://pandas.pydata.org/pandas-docs/stable/user_guide/indexing.html#returning-a-view-versus-a-copy\n",
      "  df2['marital'] = df['marital'].apply(lambda x: x if x in ['married', 'never married',\n",
      "<ipython-input-9-ea4df7860a43>:26: SettingWithCopyWarning: \n",
      "A value is trying to be set on a copy of a slice from a DataFrame\n",
      "\n",
      "See the caveats in the documentation: https://pandas.pydata.org/pandas-docs/stable/user_guide/indexing.html#returning-a-view-versus-a-copy\n",
      "  df2.dropna(subset=['marital'], inplace=True)\n",
      "<ipython-input-9-ea4df7860a43>:29: SettingWithCopyWarning: \n",
      "A value is trying to be set on a copy of a slice from a DataFrame.\n",
      "Try using .loc[row_indexer,col_indexer] = value instead\n",
      "\n",
      "See the caveats in the documentation: https://pandas.pydata.org/pandas-docs/stable/user_guide/indexing.html#returning-a-view-versus-a-copy\n",
      "  df2['martype'] = df['martype'].apply(lambda x: x if x in ['marriage between a man and a woman',\n",
      "<ipython-input-9-ea4df7860a43>:35: SettingWithCopyWarning: \n",
      "A value is trying to be set on a copy of a slice from a DataFrame.\n",
      "Try using .loc[row_indexer,col_indexer] = value instead\n",
      "\n",
      "See the caveats in the documentation: https://pandas.pydata.org/pandas-docs/stable/user_guide/indexing.html#returning-a-view-versus-a-copy\n",
      "  df2['indus10'] = pd.to_numeric(df2['indus10'], errors='coerce')\n",
      "<ipython-input-9-ea4df7860a43>:41: SettingWithCopyWarning: \n",
      "A value is trying to be set on a copy of a slice from a DataFrame.\n",
      "Try using .loc[row_indexer,col_indexer] = value instead\n",
      "\n",
      "See the caveats in the documentation: https://pandas.pydata.org/pandas-docs/stable/user_guide/indexing.html#returning-a-view-versus-a-copy\n",
      "  df2['indus10'] = pd.cut(df2['indus10'], bins=bins, labels=labels, include_lowest=True, right=False)\n",
      "<ipython-input-9-ea4df7860a43>:48: SettingWithCopyWarning: \n",
      "A value is trying to be set on a copy of a slice from a DataFrame.\n",
      "Try using .loc[row_indexer,col_indexer] = value instead\n",
      "\n",
      "See the caveats in the documentation: https://pandas.pydata.org/pandas-docs/stable/user_guide/indexing.html#returning-a-view-versus-a-copy\n",
      "  df2['childs'] = df['childs'].apply(lambda x: x if x in [0.0, 2.0, 3.0, 1.0, 4.0, 5.0, 6.0, 8.0, 7.0] else pd.NA)\n",
      "<ipython-input-9-ea4df7860a43>:51: SettingWithCopyWarning: \n",
      "A value is trying to be set on a copy of a slice from a DataFrame.\n",
      "Try using .loc[row_indexer,col_indexer] = value instead\n",
      "\n",
      "See the caveats in the documentation: https://pandas.pydata.org/pandas-docs/stable/user_guide/indexing.html#returning-a-view-versus-a-copy\n",
      "  df2['class'] = df['class'].apply(lambda x: x if x in ['middle class', 'working class', 'lower class', 'upper class'] else pd.NA)\n",
      "<ipython-input-9-ea4df7860a43>:56: SettingWithCopyWarning: \n",
      "A value is trying to be set on a copy of a slice from a DataFrame.\n",
      "Try using .loc[row_indexer,col_indexer] = value instead\n",
      "\n",
      "See the caveats in the documentation: https://pandas.pydata.org/pandas-docs/stable/user_guide/indexing.html#returning-a-view-versus-a-copy\n",
      "  df2['income16'] = df['income16'].apply(lambda x: x if x in ['$60,000 to $74,999', '$170,000 or over', '$75,000 to $89,999', '$90,000 to $109,999',\n"
     ]
    }
   ],
   "source": [
    "# Sex\n",
    "df2['sex'] = df['sex'].apply(lambda x: x if x in ['male', 'female'] else pd.NA)\n",
    "\n",
    "# Age - leave as is\n",
    "\n",
    "# Race\n",
    "df2['race'] = df['race'].apply(lambda x: x if x in ['white', 'black', 'other'] else pd.NA)\n",
    "\n",
    "\n",
    "# Degree\n",
    "df2['degree'] = df['degree'].apply(lambda x: x if x in ['high school', \"bachelors\",\n",
    "                                                        'graduate', 'less than high school',\n",
    "                                                        'associate/junior college'] else pd.NA)\n",
    "\n",
    "# Health\n",
    "df2['health'] = df['health'].apply(lambda x: x if x in ['poor', 'fair', 'excellent', 'good'] else pd.NA)\n",
    "\n",
    "\n",
    "# Happy\n",
    "df2['happy'] = df['happy'].apply(lambda x: x if x in ['very happy', 'pretty happy', 'not too happy'] else pd.NA)\n",
    "\n",
    "# Marital\n",
    "df2['marital'] = df['marital'].apply(lambda x: x if x in ['married', 'never married',\n",
    "                                                          'divorced', 'widowed',\n",
    "                                                          'separated'] else pd.NA)\n",
    "df2.dropna(subset=['marital'], inplace=True)\n",
    "\n",
    "# martype\n",
    "df2['martype'] = df['martype'].apply(lambda x: x if x in ['marriage between a man and a woman',\n",
    "                                                          'marriage between two people of the same gender'] else pd.NA)\n",
    "\n",
    "# agewed - leave as is\n",
    "\n",
    "# indus10\n",
    "df2['indus10'] = pd.to_numeric(df2['indus10'], errors='coerce')\n",
    "bins = [0, 3540, 4650, 5940, 7630, 9750, 9830, float('inf')]\n",
    "labels = ['Management, Business, Science, and Arts Occupations', 'Service Occupations', 'Sales and Office Occupations', \n",
    "          'Natural Resources, Construction, and Maintenance Occupations', 'Production, Transportation, and Material Moving Occupations',\n",
    "          'Military Specific Occupations', 'Other']\n",
    "\n",
    "df2['indus10'] = pd.cut(df2['indus10'], bins=bins, labels=labels, include_lowest=True, right=False)\n",
    "#df2['indus10'] = df2['indus10'].fillna('Unemployed')\n",
    "\n",
    "\n",
    "# hrs2 - leave as is\n",
    "\n",
    "# Childs\n",
    "df2['childs'] = df['childs'].apply(lambda x: x if x in [0.0, 2.0, 3.0, 1.0, 4.0, 5.0, 6.0, 8.0, 7.0] else pd.NA)\n",
    "\n",
    "# Class\n",
    "df2['class'] = df['class'].apply(lambda x: x if x in ['middle class', 'working class', 'lower class', 'upper class'] else pd.NA)\n",
    "\n",
    "# agekdbrn - leave as is\n",
    "\n",
    "# Income16\n",
    "df2['income16'] = df['income16'].apply(lambda x: x if x in ['$60,000 to $74,999', '$170,000 or over', '$75,000 to $89,999', '$90,000 to $109,999',\n",
    "                                                           '$50,000 to $59,999', '$40,000 to $49,999', '$110,000 to $129,999', '$30,000 to $34,999',\n",
    "                                                            '$35,000 to $39,999', '$130,000 to $149,999', '$25,000 to $29,999', '$150,000 to $169,999',\n",
    "                                                            '$10,000 to $12,499', '$22,500 to $24,999', '$20,000 to $22,499', '$12,500 to $14,999',\n",
    "                                                            '$15,000 to $17,499', '$17,500 to $19,999', '$8,000 to $9,999', 'under $1,000',\n",
    "                                                            '$1,000 to $2,999', '$3,000 to $3,999', '$7,000 to $7,999', '$5,000 to $5,999',\n",
    "                                                            '$6,000 to $6,999', '$4,000 to $4,999'] else pd.NA)\n"
   ]
  },
  {
   "cell_type": "code",
   "execution_count": 10,
   "id": "567403e7-e4f3-49e0-b347-0e227983be77",
   "metadata": {},
   "outputs": [
    {
     "name": "stdout",
     "output_type": "stream",
     "text": [
      "Production, Transportation, and Material Moving Occupations: 10705 times\n",
      "Natural Resources, Construction, and Maintenance Occupations: 4615 times\n",
      "Management, Business, Science, and Arts Occupations: 3967 times\n",
      "Sales and Office Occupations: 2179 times\n",
      "Service Occupations: 1337 times\n",
      "Other: 70 times\n",
      "Military Specific Occupations: 47 times\n",
      "nans:1169\n"
     ]
    }
   ],
   "source": [
    "for value, count in df2['indus10'].value_counts().items():\n",
    "    print(f\"{value}: {count} times\")\n",
    "\n",
    "nan_count = df2['indus10'].isna().sum()\n",
    "print(f\"nans:{nan_count}\")"
   ]
  },
  {
   "cell_type": "code",
   "execution_count": 11,
   "id": "d4041200-3f00-471e-a448-7780eb9dd889",
   "metadata": {},
   "outputs": [
    {
     "name": "stdout",
     "output_type": "stream",
     "text": [
      "        age     sex   race                    degree health         happy  \\\n",
      "24125  22.0  female  white               high school   good  pretty happy   \n",
      "24126  29.0  female  white                  graduate   good  pretty happy   \n",
      "24127  32.0    male  white  associate/junior college   good  pretty happy   \n",
      "24128  49.0  female  white                  graduate   good    very happy   \n",
      "24129  50.0    male  white                  graduate   fair  pretty happy   \n",
      "\n",
      "             marital                             martype  agewed  hrs2  \\\n",
      "24125  never married                                 NaN     NaN   NaN   \n",
      "24126        married                                 NaN     NaN   NaN   \n",
      "24127  never married                                 NaN     NaN   NaN   \n",
      "24128        married  marriage between a man and a woman     NaN   NaN   \n",
      "24129        married  marriage between a man and a woman     NaN   NaN   \n",
      "\n",
      "                                                 indus10  agekdbrn childs  \\\n",
      "24125  Production, Transportation, and Material Movin...       NaN    0.0   \n",
      "24126  Production, Transportation, and Material Movin...      25.0    2.0   \n",
      "24127  Production, Transportation, and Material Movin...      28.0    1.0   \n",
      "24128  Production, Transportation, and Material Movin...       NaN    0.0   \n",
      "24129  Production, Transportation, and Material Movin...      42.0    1.0   \n",
      "\n",
      "               class              income16  \n",
      "24125    lower class    $25,000 to $29,999  \n",
      "24126  working class    $60,000 to $74,999  \n",
      "24127   middle class  $130,000 to $149,999  \n",
      "24128   middle class  $150,000 to $169,999  \n",
      "24129   middle class   $90,000 to $109,999  \n"
     ]
    }
   ],
   "source": [
    "print(df2.tail())"
   ]
  },
  {
   "cell_type": "code",
   "execution_count": 12,
   "id": "88bebd93-4744-46f8-bae0-c252827bf468",
   "metadata": {},
   "outputs": [],
   "source": [
    "df2.to_csv('final_cleaned_data!.csv', index=False)"
   ]
  },
  {
   "cell_type": "markdown",
   "id": "f8ad2df5-8937-4be9-80d6-870f740c7b27",
   "metadata": {},
   "source": [
    "# Data Explanations \n",
    "The following section explains the data cleaning choices that were made to facilitate our analysis. First pertains to the gender category, where only results that fell into the male/female gender dichotomy. The dataset initially included a broader spectrum of genders. With the gender wage gap as our research question, it was important to narrow down the data to responses that actually included this variable. Limiting the scope of the analysis with less data and genders was deemed necessary for the specificity of our research focus. \n",
    "\n",
    "For the age variable, we made the choice to leave the original datasets division of ages into a series of age ranges, rather than singular specific values. With the broader range, we felt that the organization would be just as functional enough to analyze the research question.  Identifying the influence of age on wages was something we felt those existing divisions were sufficient for. \n",
    "\n",
    "Regarding education, the choice was made to remove those that did not specify what level of education was attained. Coding these nonresponses as a separate variable was not considered appropriate given our lack of information, and removing them was needed to properly visualize the data later. We removed these empty entries to ensure that the analysis contains complete data. \n",
    "\n",
    "To clean the marital status data, the team discounted the missing responses due to the inability for us to assume if they were unwed. The main input responses were kept as married, never married, separated, widowed, and divorced. The latter three responses indicate that the respondent is not married nor claiming marital status at the time of completing the survey. These categories for marital status were maintained, as they were appropriate for the analysis that followed.\n",
    "\n",
    "Following the cleaning process, the data is better structured for analysis, with clearer categories and more consistent entries. In summary, the data cleaning process for this analysis involved thoughtful decisions on how to handle various variables, with a focus on aligning the dataset with the research question while addressing inconsistencies and gaps in the data. Each decision, from narrowing down the gender categories to consolidating marital status responses, was made with the intent to enhance the clarity and relevance of the data for exploring the gender wage gap. "
   ]
  },
  {
   "cell_type": "markdown",
   "id": "2e4fa3a6-cf0d-418f-b855-1d5bd98b20b3",
   "metadata": {},
   "source": [
    "# Results"
   ]
  },
  {
   "cell_type": "markdown",
   "id": "1ed81218-e748-431a-9a4f-c2ea56af61a9",
   "metadata": {},
   "source": [
    "## Reading the cleaned data file:"
   ]
  },
  {
   "cell_type": "code",
   "execution_count": 17,
   "id": "f84aea4a-17db-4db9-a08f-11a8f08781ff",
   "metadata": {},
   "outputs": [
    {
     "name": "stdout",
     "output_type": "stream",
     "text": [
      "        age     sex   race                    degree     health         happy  \\\n",
      "0      48.0    male  white               high school       poor           NaN   \n",
      "1      25.0    male  white                       NaN        NaN  pretty happy   \n",
      "2      42.0    male  white                       NaN        NaN  pretty happy   \n",
      "3      24.0    male  white               high school       good           NaN   \n",
      "4      24.0  female  white                       NaN  excellent    very happy   \n",
      "...     ...     ...    ...                       ...        ...           ...   \n",
      "24084  22.0  female  white               high school       good  pretty happy   \n",
      "24085  29.0  female  white                  graduate       good  pretty happy   \n",
      "24086  32.0    male  white  associate/junior college       good  pretty happy   \n",
      "24087  49.0  female  white                  graduate       good    very happy   \n",
      "24088  50.0    male  white                  graduate       fair  pretty happy   \n",
      "\n",
      "             marital                             martype  agewed  hrs2  \\\n",
      "0            married                                 NaN    25.0   NaN   \n",
      "1      never married                                 NaN     NaN   NaN   \n",
      "2           divorced                                 NaN     NaN   NaN   \n",
      "3      never married                                 NaN     NaN   NaN   \n",
      "4            married                                 NaN     NaN   NaN   \n",
      "...              ...                                 ...     ...   ...   \n",
      "24084  never married                                 NaN     NaN   NaN   \n",
      "24085        married                                 NaN     NaN   NaN   \n",
      "24086  never married                                 NaN     NaN   NaN   \n",
      "24087        married  marriage between a man and a woman     NaN   NaN   \n",
      "24088        married  marriage between a man and a woman     NaN   NaN   \n",
      "\n",
      "                                                 indus10  agekdbrn  childs  \\\n",
      "0      Production, Transportation, and Material Movin...       NaN     2.0   \n",
      "1      Production, Transportation, and Material Movin...       NaN     0.0   \n",
      "2      Production, Transportation, and Material Movin...       NaN     0.0   \n",
      "3      Production, Transportation, and Material Movin...       NaN     0.0   \n",
      "4      Production, Transportation, and Material Movin...       NaN     0.0   \n",
      "...                                                  ...       ...     ...   \n",
      "24084  Production, Transportation, and Material Movin...       NaN     0.0   \n",
      "24085  Production, Transportation, and Material Movin...      25.0     2.0   \n",
      "24086  Production, Transportation, and Material Movin...      28.0     1.0   \n",
      "24087  Production, Transportation, and Material Movin...       NaN     0.0   \n",
      "24088  Production, Transportation, and Material Movin...      42.0     1.0   \n",
      "\n",
      "               class              income16  \n",
      "0                NaN                   NaN  \n",
      "1       middle class                   NaN  \n",
      "2      working class                   NaN  \n",
      "3                NaN                   NaN  \n",
      "4       middle class                   NaN  \n",
      "...              ...                   ...  \n",
      "24084    lower class    $25,000 to $29,999  \n",
      "24085  working class    $60,000 to $74,999  \n",
      "24086   middle class  $130,000 to $149,999  \n",
      "24087   middle class  $150,000 to $169,999  \n",
      "24088   middle class   $90,000 to $109,999  \n",
      "\n",
      "[24089 rows x 15 columns]\n"
     ]
    }
   ],
   "source": [
    "df = pd.read_csv('final_cleaned_data!.csv', low_memory=False)\n",
    "print(df)"
   ]
  },
  {
   "cell_type": "markdown",
   "id": "de97284f-0348-48aa-9d53-5ee8d7839746",
   "metadata": {},
   "source": [
    "## Isolating out the variables we want to analyze, and checking the potential responses for each of them:"
   ]
  },
  {
   "cell_type": "code",
   "execution_count": 18,
   "id": "c2ddd7c8-17e8-4790-8eae-de1b43fc36cc",
   "metadata": {},
   "outputs": [
    {
     "name": "stdout",
     "output_type": "stream",
     "text": [
      "['male', 'female', nan]\n"
     ]
    }
   ],
   "source": [
    "# We can first list all of the possible responses given for 'sex':\n",
    "sex_responses = []\n",
    "for response in df['sex']:\n",
    "    if response not in sex_responses:\n",
    "        sex_responses.append(response)\n",
    "print(sex_responses)"
   ]
  },
  {
   "cell_type": "code",
   "execution_count": 19,
   "id": "1dff1373-5d8d-42b4-a6e6-23545ec84846",
   "metadata": {},
   "outputs": [
    {
     "name": "stdout",
     "output_type": "stream",
     "text": [
      "['married', 'never married', 'divorced', 'separated', 'widowed']\n"
     ]
    }
   ],
   "source": [
    "# We can repeat this for marital status:\n",
    "marriage_responses = []\n",
    "for response in df['marital']:\n",
    "    if response not in marriage_responses:\n",
    "        marriage_responses.append(response)\n",
    "print(marriage_responses)"
   ]
  },
  {
   "cell_type": "code",
   "execution_count": 20,
   "id": "733f3f7e-ac6c-4fdb-ba6f-9f170e142d44",
   "metadata": {},
   "outputs": [
    {
     "name": "stdout",
     "output_type": "stream",
     "text": [
      "['high school', nan, 'associate/junior college', 'graduate', 'less than high school']\n",
      "[nan, '$170,000 or over', '$50,000 to $59,999', '$75,000 to $89,999', '$60,000 to $74,999', '$30,000 to $34,999', 'under $1,000', '$8,000 to $9,999', '$12,500 to $14,999', '$40,000 to $49,999', '$5,000 to $5,999', '$35,000 to $39,999', '$25,000 to $29,999', '$90,000 to $109,999', '$22,500 to $24,999', '$20,000 to $22,499', '$110,000 to $129,999', '$150,000 to $169,999', '$130,000 to $149,999', '$1,000 to $2,999', '$17,500 to $19,999', '$6,000 to $6,999', '$10,000 to $12,499', '$15,000 to $17,499', '$7,000 to $7,999', '$3,000 to $3,999', '$4,000 to $4,999']\n"
     ]
    }
   ],
   "source": [
    "# As well as education and income:\n",
    "education_responses = []\n",
    "for response in df['degree']:\n",
    "    if response not in education_responses:\n",
    "        education_responses.append(response)\n",
    "print(education_responses)\n",
    "\n",
    "income_responses = []\n",
    "for response in df['income16']:\n",
    "    if response not in income_responses:\n",
    "        income_responses.append(response)\n",
    "print(income_responses)"
   ]
  },
  {
   "cell_type": "markdown",
   "id": "02905e4a-cb54-4953-a6a6-58817280e503",
   "metadata": {},
   "source": [
    "This information can also be found in the codebook, but it is important to check that the data post-cleaning is what we expect."
   ]
  },
  {
   "cell_type": "markdown",
   "id": "1b140498-135d-43e2-afe8-104a0d39eef2",
   "metadata": {},
   "source": [
    "## Replacing the non-numerical values for income with numerical values:"
   ]
  },
  {
   "cell_type": "code",
   "execution_count": 21,
   "id": "414d834b-473b-49d1-b7c0-c8e88f4ae0ab",
   "metadata": {},
   "outputs": [
    {
     "name": "stdout",
     "output_type": "stream",
     "text": [
      "[nan, 500.0, 2000.0, 3500.0, 4500.0, 5500.0, 6500.0, 7500.0, 9000.0, 11250.0, 13750.0, 16250.0, 18750.0, 21250.0, 23750.0, 27500.0, 32500.0, 37500.0, 45000.0, 55000.0, 67500.0, 82500.0, 100000.0, 120000.0, 140000.0, 160000.0, 170000.0]\n"
     ]
    },
    {
     "name": "stderr",
     "output_type": "stream",
     "text": [
      "<ipython-input-21-22ff64c4c11c>:33: FutureWarning: Downcasting behavior in `replace` is deprecated and will be removed in a future version. To retain the old behavior, explicitly call `result.infer_objects(copy=False)`. To opt-in to the future behavior, set `pd.set_option('future.no_silent_downcasting', True)`\n",
      "  df = df.replace('$4,000 to $4,999', 4500)\n"
     ]
    }
   ],
   "source": [
    "# Replacing the string based income values with numbers to make plotting and analysis easier:\n",
    "# (For each income range given, we are converting it to its mean value)\n",
    "# This has potential issues; for example, the \"$170,000 or over\" bucket is being lumped into an income\n",
    "# of $170,000; this will make mean values of the income quantitatively inaccurate, but comparisons for the\n",
    "# sake of the gender pay gap should still hold.\n",
    "\n",
    "df = df.replace('unemployed/zero income', 0)\n",
    "df = df.replace('$170,000 or over', 170000)\n",
    "df = df.replace('$50,000 to $59,999', 55000)\n",
    "df = df.replace('$75,000 to $89,999', 82500)\n",
    "df = df.replace('$60,000 to $74,999', 67500)\n",
    "df = df.replace('$30,000 to $34,999', 32500)\n",
    "df = df.replace('under $1,000', 500)\n",
    "df = df.replace('$8,000 to $9,999', 9000)\n",
    "df = df.replace('$12,500 to $14,999', 13750)\n",
    "df = df.replace('$40,000 to $49,999', 45000)\n",
    "df = df.replace('$5,000 to $5,999', 5500)\n",
    "df = df.replace('$35,000 to $39,999', 37500)\n",
    "df = df.replace('$25,000 to $29,999', 27500)\n",
    "df = df.replace('$90,000 to $109,999', 100000)\n",
    "df = df.replace('$22,500 to $24,999', 23750)\n",
    "df = df.replace('$20,000 to $22,499', 21250)\n",
    "df = df.replace('$110,000 to $129,999', 120000)\n",
    "df = df.replace('$150,000 to $169,999', 160000)\n",
    "df = df.replace('$130,000 to $149,999', 140000)\n",
    "df = df.replace('$1,000 to $2,999', 2000)\n",
    "df = df.replace('$17,500 to $19,999', 18750)\n",
    "df = df.replace('$6,000 to $6,999', 6500)\n",
    "df = df.replace('$10,000 to $12,499', 11250)\n",
    "df = df.replace('$15,000 to $17,499', 16250)\n",
    "df = df.replace('$7,000 to $7,999', 7500)\n",
    "df = df.replace('$3,000 to $3,999', 3500)\n",
    "df = df.replace('$4,000 to $4,999', 4500)\n",
    "\n",
    "# To verify the data cleaning above works\n",
    "print(sorted(df['income16'].unique()))"
   ]
  },
  {
   "cell_type": "markdown",
   "id": "eeeaa2ed-01b7-4f1f-b30d-b278a2a56560",
   "metadata": {},
   "source": [
    "## Making a plot and some preliminary analysis:"
   ]
  },
  {
   "cell_type": "code",
   "execution_count": 22,
   "id": "82a154ef-feb7-4619-bf61-e42d94fd1c36",
   "metadata": {},
   "outputs": [
    {
     "data": {
      "text/plain": [
       "<Axes: xlabel='income16', ylabel='Density'>"
      ]
     },
     "execution_count": 22,
     "metadata": {},
     "output_type": "execute_result"
    },
    {
     "data": {
      "image/png": "[encoded data removed]",
      "text/plain": [
       "<Figure size 432x288 with 1 Axes>"
      ]
     },
     "metadata": {
      "needs_background": "light"
     },
     "output_type": "display_data"
    }
   ],
   "source": [
    "# First, we can see if the gender wage gap is immediately visible in a histogram:\n",
    "sns.kdeplot(data=df,x='income16',hue='sex')"
   ]
  },
  {
   "cell_type": "markdown",
   "id": "6b698a62-1b81-4d87-8e2b-4b7fbfc8a01c",
   "metadata": {},
   "source": [
    "It does appear that in the lower income percentile, the proportion of females is greater; we can also quantify this by looking at some statistics regarding this data:"
   ]
  },
  {
   "cell_type": "code",
   "execution_count": 23,
   "id": "28410a97-6439-4516-a30c-f038a3274c72",
   "metadata": {},
   "outputs": [
    {
     "data": {
      "text/html": [
       "<div>\n",
       "<style scoped>\n",
       "    .dataframe tbody tr th:only-of-type {\n",
       "        vertical-align: middle;\n",
       "    }\n",
       "\n",
       "    .dataframe tbody tr th {\n",
       "        vertical-align: top;\n",
       "    }\n",
       "\n",
       "    .dataframe thead tr th {\n",
       "        text-align: left;\n",
       "    }\n",
       "\n",
       "    .dataframe thead tr:last-of-type th {\n",
       "        text-align: right;\n",
       "    }\n",
       "</style>\n",
       "<table border=\"1\" class=\"dataframe\">\n",
       "  <thead>\n",
       "    <tr>\n",
       "      <th></th>\n",
       "      <th colspan=\"8\" halign=\"left\">income16</th>\n",
       "    </tr>\n",
       "    <tr>\n",
       "      <th></th>\n",
       "      <th>count</th>\n",
       "      <th>mean</th>\n",
       "      <th>std</th>\n",
       "      <th>min</th>\n",
       "      <th>25%</th>\n",
       "      <th>50%</th>\n",
       "      <th>75%</th>\n",
       "      <th>max</th>\n",
       "    </tr>\n",
       "    <tr>\n",
       "      <th>sex</th>\n",
       "      <th></th>\n",
       "      <th></th>\n",
       "      <th></th>\n",
       "      <th></th>\n",
       "      <th></th>\n",
       "      <th></th>\n",
       "      <th></th>\n",
       "      <th></th>\n",
       "    </tr>\n",
       "  </thead>\n",
       "  <tbody>\n",
       "    <tr>\n",
       "      <th>female</th>\n",
       "      <td>6156.0</td>\n",
       "      <td>64971.125731</td>\n",
       "      <td>49689.979662</td>\n",
       "      <td>500.0</td>\n",
       "      <td>23750.0</td>\n",
       "      <td>55000.0</td>\n",
       "      <td>100000.0</td>\n",
       "      <td>170000.0</td>\n",
       "    </tr>\n",
       "    <tr>\n",
       "      <th>male</th>\n",
       "      <td>5169.0</td>\n",
       "      <td>75578.254982</td>\n",
       "      <td>51925.243015</td>\n",
       "      <td>500.0</td>\n",
       "      <td>32500.0</td>\n",
       "      <td>67500.0</td>\n",
       "      <td>120000.0</td>\n",
       "      <td>170000.0</td>\n",
       "    </tr>\n",
       "  </tbody>\n",
       "</table>\n",
       "</div>"
      ],
      "text/plain": [
       "       income16                                                       \\\n",
       "          count          mean           std    min      25%      50%   \n",
       "sex                                                                    \n",
       "female   6156.0  64971.125731  49689.979662  500.0  23750.0  55000.0   \n",
       "male     5169.0  75578.254982  51925.243015  500.0  32500.0  67500.0   \n",
       "\n",
       "                            \n",
       "             75%       max  \n",
       "sex                         \n",
       "female  100000.0  170000.0  \n",
       "male    120000.0  170000.0  "
      ]
     },
     "execution_count": 23,
     "metadata": {},
     "output_type": "execute_result"
    }
   ],
   "source": [
    "df.loc[:,['sex','income16']].groupby('sex').describe()"
   ]
  },
  {
   "cell_type": "markdown",
   "id": "12da9c33-1112-4c58-bab0-69b239b6a0bd",
   "metadata": {},
   "source": [
    "We see that the mean income for males is higher, by about 19.8%, which will serve as our baseline estimate of the gender pay gap that we compare to with further analysis."
   ]
  },
  {
   "cell_type": "markdown",
   "id": "7c694395-6444-4634-823c-66c375193662",
   "metadata": {},
   "source": [
    "## The impact of age on the gender wage gap:\n",
    "To begin, we can see if any visual trends appear when creating a scatterplot of income levels and age, with hue determined by sex:"
   ]
  },
  {
   "cell_type": "code",
   "execution_count": 24,
   "id": "d799ac19-ccc4-4f0a-80a9-f7872abde3dc",
   "metadata": {},
   "outputs": [
    {
     "name": "stdout",
     "output_type": "stream",
     "text": [
      "The history saving thread hit an unexpected error (OperationalError('attempt to write a readonly database')).History will not be written to the database.\n"
     ]
    },
    {
     "data": {
      "text/plain": [
       "<Axes: xlabel='income16', ylabel='age'>"
      ]
     },
     "execution_count": 24,
     "metadata": {},
     "output_type": "execute_result"
    },
    {
     "data": {
      "image/png": "[encoded data removed]",
      "text/plain": [
       "<Figure size 432x288 with 1 Axes>"
      ]
     },
     "metadata": {
      "needs_background": "light"
     },
     "output_type": "display_data"
    }
   ],
   "source": [
    "sns.scatterplot(data=df,x='income16',y='age',hue='sex')"
   ]
  },
  {
   "cell_type": "markdown",
   "id": "ac1e5f8c-93b8-4a06-b048-3ed2c504f225",
   "metadata": {},
   "source": [
    "This is not particularly illuminating, so we can first try separating age into four broad groups: \"young\" (below 35 years old), \"middle-aged\" (between 35 and 50 years old), \"older\" (between 50 and 70 years old), and \"very old\" (above 70 years old). Then, we can separate our earlier kernel density plot into four separate sets of statistics regarding the differences in income for the genders (this can also be done with a more finely-grained set of age groups):"
   ]
  },
  {
   "cell_type": "code",
   "execution_count": 25,
   "id": "a880b607-8c82-4572-b489-e51a3f078a8e",
   "metadata": {},
   "outputs": [],
   "source": [
    "df_young = df.loc[(df['age'] < 35)] # This is the dataframe we'll use for the \"young\" age category\n",
    "# If the age doesn't fit with our \"young\" definition, we delete that row from this new dataframe."
   ]
  },
  {
   "cell_type": "code",
   "execution_count": 26,
   "id": "16634888-7b98-4537-bf12-d0dcfcc697b0",
   "metadata": {},
   "outputs": [
    {
     "data": {
      "text/plain": [
       "<Axes: xlabel='income16', ylabel='Density'>"
      ]
     },
     "execution_count": 26,
     "metadata": {},
     "output_type": "execute_result"
    },
    {
     "data": {
      "image/png": "[encoded data removed]",
      "text/plain": [
       "<Figure size 432x288 with 1 Axes>"
      ]
     },
     "metadata": {
      "needs_background": "light"
     },
     "output_type": "display_data"
    }
   ],
   "source": [
    "sns.kdeplot(data=df_young,x='income16',hue='sex')"
   ]
  },
  {
   "cell_type": "code",
   "execution_count": 27,
   "id": "218c13a1-191e-4fe8-aa2e-75b477c93eb4",
   "metadata": {},
   "outputs": [
    {
     "data": {
      "text/html": [
       "<div>\n",
       "<style scoped>\n",
       "    .dataframe tbody tr th:only-of-type {\n",
       "        vertical-align: middle;\n",
       "    }\n",
       "\n",
       "    .dataframe tbody tr th {\n",
       "        vertical-align: top;\n",
       "    }\n",
       "\n",
       "    .dataframe thead tr th {\n",
       "        text-align: left;\n",
       "    }\n",
       "\n",
       "    .dataframe thead tr:last-of-type th {\n",
       "        text-align: right;\n",
       "    }\n",
       "</style>\n",
       "<table border=\"1\" class=\"dataframe\">\n",
       "  <thead>\n",
       "    <tr>\n",
       "      <th></th>\n",
       "      <th colspan=\"8\" halign=\"left\">income16</th>\n",
       "    </tr>\n",
       "    <tr>\n",
       "      <th></th>\n",
       "      <th>count</th>\n",
       "      <th>mean</th>\n",
       "      <th>std</th>\n",
       "      <th>min</th>\n",
       "      <th>25%</th>\n",
       "      <th>50%</th>\n",
       "      <th>75%</th>\n",
       "      <th>max</th>\n",
       "    </tr>\n",
       "    <tr>\n",
       "      <th>sex</th>\n",
       "      <th></th>\n",
       "      <th></th>\n",
       "      <th></th>\n",
       "      <th></th>\n",
       "      <th></th>\n",
       "      <th></th>\n",
       "      <th></th>\n",
       "      <th></th>\n",
       "    </tr>\n",
       "  </thead>\n",
       "  <tbody>\n",
       "    <tr>\n",
       "      <th>female</th>\n",
       "      <td>1455.0</td>\n",
       "      <td>55257.044674</td>\n",
       "      <td>45166.320069</td>\n",
       "      <td>500.0</td>\n",
       "      <td>21250.0</td>\n",
       "      <td>45000.0</td>\n",
       "      <td>67500.0</td>\n",
       "      <td>170000.0</td>\n",
       "    </tr>\n",
       "    <tr>\n",
       "      <th>male</th>\n",
       "      <td>1172.0</td>\n",
       "      <td>60976.322526</td>\n",
       "      <td>45858.939124</td>\n",
       "      <td>500.0</td>\n",
       "      <td>27500.0</td>\n",
       "      <td>45000.0</td>\n",
       "      <td>82500.0</td>\n",
       "      <td>170000.0</td>\n",
       "    </tr>\n",
       "  </tbody>\n",
       "</table>\n",
       "</div>"
      ],
      "text/plain": [
       "       income16                                                                \\\n",
       "          count          mean           std    min      25%      50%      75%   \n",
       "sex                                                                             \n",
       "female   1455.0  55257.044674  45166.320069  500.0  21250.0  45000.0  67500.0   \n",
       "male     1172.0  60976.322526  45858.939124  500.0  27500.0  45000.0  82500.0   \n",
       "\n",
       "                  \n",
       "             max  \n",
       "sex               \n",
       "female  170000.0  \n",
       "male    170000.0  "
      ]
     },
     "execution_count": 27,
     "metadata": {},
     "output_type": "execute_result"
    }
   ],
   "source": [
    "df_young.loc[:,['sex','income16']].groupby('sex').describe()"
   ]
  },
  {
   "cell_type": "markdown",
   "id": "362af4d6-73dd-42a1-a50a-fe4a3c9b8185",
   "metadata": {},
   "source": [
    "Here, we see that the income for males is only about 9.0% higher, lower than our baseline of 19.8% overall from earlier. We can hypothesize here that the gender wage gap is higher amongst older adults, and may have decreased over time due to increased efforts to educate the public and/or address the issue. We can test this with further analysis."
   ]
  },
  {
   "cell_type": "code",
   "execution_count": 28,
   "id": "5d8619d6-e22f-4dbe-9278-8141731527d0",
   "metadata": {},
   "outputs": [
    {
     "data": {
      "text/html": [
       "<div>\n",
       "<style scoped>\n",
       "    .dataframe tbody tr th:only-of-type {\n",
       "        vertical-align: middle;\n",
       "    }\n",
       "\n",
       "    .dataframe tbody tr th {\n",
       "        vertical-align: top;\n",
       "    }\n",
       "\n",
       "    .dataframe thead tr th {\n",
       "        text-align: left;\n",
       "    }\n",
       "\n",
       "    .dataframe thead tr:last-of-type th {\n",
       "        text-align: right;\n",
       "    }\n",
       "</style>\n",
       "<table border=\"1\" class=\"dataframe\">\n",
       "  <thead>\n",
       "    <tr>\n",
       "      <th></th>\n",
       "      <th colspan=\"8\" halign=\"left\">income16</th>\n",
       "    </tr>\n",
       "    <tr>\n",
       "      <th></th>\n",
       "      <th>count</th>\n",
       "      <th>mean</th>\n",
       "      <th>std</th>\n",
       "      <th>min</th>\n",
       "      <th>25%</th>\n",
       "      <th>50%</th>\n",
       "      <th>75%</th>\n",
       "      <th>max</th>\n",
       "    </tr>\n",
       "    <tr>\n",
       "      <th>sex</th>\n",
       "      <th></th>\n",
       "      <th></th>\n",
       "      <th></th>\n",
       "      <th></th>\n",
       "      <th></th>\n",
       "      <th></th>\n",
       "      <th></th>\n",
       "      <th></th>\n",
       "    </tr>\n",
       "  </thead>\n",
       "  <tbody>\n",
       "    <tr>\n",
       "      <th>female</th>\n",
       "      <td>1547.0</td>\n",
       "      <td>72933.904331</td>\n",
       "      <td>51881.258436</td>\n",
       "      <td>500.0</td>\n",
       "      <td>32500.0</td>\n",
       "      <td>67500.0</td>\n",
       "      <td>100000.0</td>\n",
       "      <td>170000.0</td>\n",
       "    </tr>\n",
       "    <tr>\n",
       "      <th>male</th>\n",
       "      <td>1260.0</td>\n",
       "      <td>85996.031746</td>\n",
       "      <td>52085.534300</td>\n",
       "      <td>500.0</td>\n",
       "      <td>45000.0</td>\n",
       "      <td>82500.0</td>\n",
       "      <td>120000.0</td>\n",
       "      <td>170000.0</td>\n",
       "    </tr>\n",
       "  </tbody>\n",
       "</table>\n",
       "</div>"
      ],
      "text/plain": [
       "       income16                                                       \\\n",
       "          count          mean           std    min      25%      50%   \n",
       "sex                                                                    \n",
       "female   1547.0  72933.904331  51881.258436  500.0  32500.0  67500.0   \n",
       "male     1260.0  85996.031746  52085.534300  500.0  45000.0  82500.0   \n",
       "\n",
       "                            \n",
       "             75%       max  \n",
       "sex                         \n",
       "female  100000.0  170000.0  \n",
       "male    120000.0  170000.0  "
      ]
     },
     "execution_count": 28,
     "metadata": {},
     "output_type": "execute_result"
    }
   ],
   "source": [
    "df_middleaged = df.loc[(df['age'] >= 35) & (df['age'] < 50)]\n",
    "df_middleaged.loc[:,['sex','income16']].groupby('sex').describe()"
   ]
  },
  {
   "cell_type": "markdown",
   "id": "724482b9-a0e0-4863-a6b0-3d8b340de4cf",
   "metadata": {},
   "source": [
    "In this category, we see that the income for males is about 19.9% higher than that for females, about equal to our baseline of 19.8% that we found earlier."
   ]
  },
  {
   "cell_type": "code",
   "execution_count": 29,
   "id": "80ad5c20-ff4a-4c32-90a4-172b9610b852",
   "metadata": {},
   "outputs": [
    {
     "data": {
      "text/html": [
       "<div>\n",
       "<style scoped>\n",
       "    .dataframe tbody tr th:only-of-type {\n",
       "        vertical-align: middle;\n",
       "    }\n",
       "\n",
       "    .dataframe tbody tr th {\n",
       "        vertical-align: top;\n",
       "    }\n",
       "\n",
       "    .dataframe thead tr th {\n",
       "        text-align: left;\n",
       "    }\n",
       "\n",
       "    .dataframe thead tr:last-of-type th {\n",
       "        text-align: right;\n",
       "    }\n",
       "</style>\n",
       "<table border=\"1\" class=\"dataframe\">\n",
       "  <thead>\n",
       "    <tr>\n",
       "      <th></th>\n",
       "      <th colspan=\"8\" halign=\"left\">income16</th>\n",
       "    </tr>\n",
       "    <tr>\n",
       "      <th></th>\n",
       "      <th>count</th>\n",
       "      <th>mean</th>\n",
       "      <th>std</th>\n",
       "      <th>min</th>\n",
       "      <th>25%</th>\n",
       "      <th>50%</th>\n",
       "      <th>75%</th>\n",
       "      <th>max</th>\n",
       "    </tr>\n",
       "    <tr>\n",
       "      <th>sex</th>\n",
       "      <th></th>\n",
       "      <th></th>\n",
       "      <th></th>\n",
       "      <th></th>\n",
       "      <th></th>\n",
       "      <th></th>\n",
       "      <th></th>\n",
       "      <th></th>\n",
       "    </tr>\n",
       "  </thead>\n",
       "  <tbody>\n",
       "    <tr>\n",
       "      <th>female</th>\n",
       "      <td>2108.0</td>\n",
       "      <td>70286.053131</td>\n",
       "      <td>51391.102237</td>\n",
       "      <td>500.0</td>\n",
       "      <td>27500.0</td>\n",
       "      <td>55000.0</td>\n",
       "      <td>100000.0</td>\n",
       "      <td>170000.0</td>\n",
       "    </tr>\n",
       "    <tr>\n",
       "      <th>male</th>\n",
       "      <td>1795.0</td>\n",
       "      <td>80043.593315</td>\n",
       "      <td>54914.307046</td>\n",
       "      <td>500.0</td>\n",
       "      <td>32500.0</td>\n",
       "      <td>67500.0</td>\n",
       "      <td>120000.0</td>\n",
       "      <td>170000.0</td>\n",
       "    </tr>\n",
       "  </tbody>\n",
       "</table>\n",
       "</div>"
      ],
      "text/plain": [
       "       income16                                                       \\\n",
       "          count          mean           std    min      25%      50%   \n",
       "sex                                                                    \n",
       "female   2108.0  70286.053131  51391.102237  500.0  27500.0  55000.0   \n",
       "male     1795.0  80043.593315  54914.307046  500.0  32500.0  67500.0   \n",
       "\n",
       "                            \n",
       "             75%       max  \n",
       "sex                         \n",
       "female  100000.0  170000.0  \n",
       "male    120000.0  170000.0  "
      ]
     },
     "execution_count": 29,
     "metadata": {},
     "output_type": "execute_result"
    }
   ],
   "source": [
    "df_older = df.loc[(df['age'] >= 50) & (df['age'] < 70)]\n",
    "df_older.loc[:,['sex','income16']].groupby('sex').describe()"
   ]
  },
  {
   "cell_type": "markdown",
   "id": "300fad0a-0108-4475-9327-c7105011c18c",
   "metadata": {},
   "source": [
    "Here, we see that the income for males is about 12.0% higher than that of females, lower than our baseline of 19.8% earlier. This is contrary to our hypothesis that the gender wage gap is higher at higher ages, but we will visually see the data more clearly in a bar graph later below. Before this, we can examine our \"very old\" group:"
   ]
  },
  {
   "cell_type": "code",
   "execution_count": 30,
   "id": "afe8dcd9-a016-4069-8282-0d0eff1ff598",
   "metadata": {},
   "outputs": [
    {
     "data": {
      "text/html": [
       "<div>\n",
       "<style scoped>\n",
       "    .dataframe tbody tr th:only-of-type {\n",
       "        vertical-align: middle;\n",
       "    }\n",
       "\n",
       "    .dataframe tbody tr th {\n",
       "        vertical-align: top;\n",
       "    }\n",
       "\n",
       "    .dataframe thead tr th {\n",
       "        text-align: left;\n",
       "    }\n",
       "\n",
       "    .dataframe thead tr:last-of-type th {\n",
       "        text-align: right;\n",
       "    }\n",
       "</style>\n",
       "<table border=\"1\" class=\"dataframe\">\n",
       "  <thead>\n",
       "    <tr>\n",
       "      <th></th>\n",
       "      <th colspan=\"8\" halign=\"left\">income16</th>\n",
       "    </tr>\n",
       "    <tr>\n",
       "      <th></th>\n",
       "      <th>count</th>\n",
       "      <th>mean</th>\n",
       "      <th>std</th>\n",
       "      <th>min</th>\n",
       "      <th>25%</th>\n",
       "      <th>50%</th>\n",
       "      <th>75%</th>\n",
       "      <th>max</th>\n",
       "    </tr>\n",
       "    <tr>\n",
       "      <th>sex</th>\n",
       "      <th></th>\n",
       "      <th></th>\n",
       "      <th></th>\n",
       "      <th></th>\n",
       "      <th></th>\n",
       "      <th></th>\n",
       "      <th></th>\n",
       "      <th></th>\n",
       "    </tr>\n",
       "  </thead>\n",
       "  <tbody>\n",
       "    <tr>\n",
       "      <th>female</th>\n",
       "      <td>889.0</td>\n",
       "      <td>53174.915636</td>\n",
       "      <td>43371.123949</td>\n",
       "      <td>500.0</td>\n",
       "      <td>21250.0</td>\n",
       "      <td>37500.0</td>\n",
       "      <td>67500.0</td>\n",
       "      <td>170000.0</td>\n",
       "    </tr>\n",
       "    <tr>\n",
       "      <th>male</th>\n",
       "      <td>814.0</td>\n",
       "      <td>69324.631450</td>\n",
       "      <td>47294.795678</td>\n",
       "      <td>500.0</td>\n",
       "      <td>32500.0</td>\n",
       "      <td>55000.0</td>\n",
       "      <td>100000.0</td>\n",
       "      <td>170000.0</td>\n",
       "    </tr>\n",
       "  </tbody>\n",
       "</table>\n",
       "</div>"
      ],
      "text/plain": [
       "       income16                                                       \\\n",
       "          count          mean           std    min      25%      50%   \n",
       "sex                                                                    \n",
       "female    889.0  53174.915636  43371.123949  500.0  21250.0  37500.0   \n",
       "male      814.0  69324.631450  47294.795678  500.0  32500.0  55000.0   \n",
       "\n",
       "                            \n",
       "             75%       max  \n",
       "sex                         \n",
       "female   67500.0  170000.0  \n",
       "male    100000.0  170000.0  "
      ]
     },
     "execution_count": 30,
     "metadata": {},
     "output_type": "execute_result"
    }
   ],
   "source": [
    "df_veryold = df.loc[(df['age'] >= 70)]\n",
    "df_veryold.loc[:,['sex','income16']].groupby('sex').describe()"
   ]
  },
  {
   "cell_type": "markdown",
   "id": "9d8f929d-9f8f-4ee0-8618-5d8cab88366b",
   "metadata": {},
   "source": [
    "Here we find a much higher wage gap of about 60.0%, in line with our original hypothesis that the gender wage gap rises with age; however, there are other factors to consider here: for example, people aged higher than 70 may well have grown up in a time when there were fewer opportunities for women to enter the workforce for similar pay to men, and this may be a cause of the drastically high wage gap in this case.\n",
    "\n",
    "We can also visually see the differences in gender pay gap based on age if we show a bar graph of the incomes of males and females at several different groups of ages:"
   ]
  },
  {
   "cell_type": "code",
   "execution_count": 31,
   "id": "11fd1af9-7bd8-4a61-933f-129aaa00cee1",
   "metadata": {},
   "outputs": [
    {
     "data": {
      "text/plain": [
       "<Axes: xlabel='agegroup', ylabel='income16'>"
      ]
     },
     "execution_count": 31,
     "metadata": {},
     "output_type": "execute_result"
    },
    {
     "data": {
      "image/png": "[encoded data removed]",
      "text/plain": [
       "<Figure size 720x432 with 1 Axes>"
      ]
     },
     "metadata": {
      "needs_background": "light"
     },
     "output_type": "display_data"
    }
   ],
   "source": [
    "df['agegroup'] = pd.qcut(df['age'],8)\n",
    "fig, ax = plt.subplots(1,1,figsize=(10,6))\n",
    "sns.barplot(data=df,x='agegroup',y='income16',hue='sex',ax=ax)"
   ]
  },
  {
   "cell_type": "markdown",
   "id": "a8a46a05-fa5f-46fe-b4d7-78fd518cb201",
   "metadata": {},
   "source": [
    "Here, we see that the gender wage gap does broadly rise with age, though it decreases for a few of the age groups between 45 and 65, in line with what we observed from the statistics earlier.\n",
    "\n",
    "## The impact of marital status on gender wage gap:\n",
    "Here, since there are only a few different marital status groups, we can start by plotting a bar graph of income differences between males and females within groups of different marital statuses:"
   ]
  },
  {
   "cell_type": "code",
   "execution_count": 32,
   "id": "4b564b87-1b84-47be-bb0c-db5202862e52",
   "metadata": {},
   "outputs": [
    {
     "data": {
      "text/plain": [
       "<Axes: xlabel='marital', ylabel='income16'>"
      ]
     },
     "execution_count": 32,
     "metadata": {},
     "output_type": "execute_result"
    },
    {
     "data": {
      "image/png": "[encoded data removed]",
      "text/plain": [
       "<Figure size 720x432 with 1 Axes>"
      ]
     },
     "metadata": {
      "needs_background": "light"
     },
     "output_type": "display_data"
    }
   ],
   "source": [
    "fig, ax = plt.subplots(1,1,figsize=(10,6))\n",
    "sns.barplot(data=df,x='marital',y='income16',hue='sex',ax=ax)"
   ]
  },
  {
   "cell_type": "markdown",
   "id": "acc063dd-da14-4f3a-b6e3-2e4682d7fc11",
   "metadata": {},
   "source": [
    "Here, we see that the gender pay gap seems to be lower for never married, divorced, and unmarried individuals, whereas higher for married or widowed individuals. We can also examine numerical statistics for each of these groups, comparing the wage gap percentage to our overall baseline of 19.8% that we found earlier:"
   ]
  },
  {
   "cell_type": "code",
   "execution_count": 33,
   "id": "6bbf8e6c-b737-4285-b630-fffcdbf9d7d3",
   "metadata": {},
   "outputs": [
    {
     "data": {
      "text/html": [
       "<div>\n",
       "<style scoped>\n",
       "    .dataframe tbody tr th:only-of-type {\n",
       "        vertical-align: middle;\n",
       "    }\n",
       "\n",
       "    .dataframe tbody tr th {\n",
       "        vertical-align: top;\n",
       "    }\n",
       "\n",
       "    .dataframe thead tr th {\n",
       "        text-align: left;\n",
       "    }\n",
       "\n",
       "    .dataframe thead tr:last-of-type th {\n",
       "        text-align: right;\n",
       "    }\n",
       "</style>\n",
       "<table border=\"1\" class=\"dataframe\">\n",
       "  <thead>\n",
       "    <tr>\n",
       "      <th></th>\n",
       "      <th colspan=\"8\" halign=\"left\">income16</th>\n",
       "    </tr>\n",
       "    <tr>\n",
       "      <th></th>\n",
       "      <th>count</th>\n",
       "      <th>mean</th>\n",
       "      <th>std</th>\n",
       "      <th>min</th>\n",
       "      <th>25%</th>\n",
       "      <th>50%</th>\n",
       "      <th>75%</th>\n",
       "      <th>max</th>\n",
       "    </tr>\n",
       "    <tr>\n",
       "      <th>sex</th>\n",
       "      <th></th>\n",
       "      <th></th>\n",
       "      <th></th>\n",
       "      <th></th>\n",
       "      <th></th>\n",
       "      <th></th>\n",
       "      <th></th>\n",
       "      <th></th>\n",
       "    </tr>\n",
       "  </thead>\n",
       "  <tbody>\n",
       "    <tr>\n",
       "      <th>female</th>\n",
       "      <td>2564.0</td>\n",
       "      <td>90254.875195</td>\n",
       "      <td>50009.491156</td>\n",
       "      <td>500.0</td>\n",
       "      <td>55000.0</td>\n",
       "      <td>82500.0</td>\n",
       "      <td>140000.0</td>\n",
       "      <td>170000.0</td>\n",
       "    </tr>\n",
       "    <tr>\n",
       "      <th>male</th>\n",
       "      <td>2537.0</td>\n",
       "      <td>96710.287741</td>\n",
       "      <td>50489.893269</td>\n",
       "      <td>500.0</td>\n",
       "      <td>55000.0</td>\n",
       "      <td>100000.0</td>\n",
       "      <td>140000.0</td>\n",
       "      <td>170000.0</td>\n",
       "    </tr>\n",
       "  </tbody>\n",
       "</table>\n",
       "</div>"
      ],
      "text/plain": [
       "       income16                                                        \\\n",
       "          count          mean           std    min      25%       50%   \n",
       "sex                                                                     \n",
       "female   2564.0  90254.875195  50009.491156  500.0  55000.0   82500.0   \n",
       "male     2537.0  96710.287741  50489.893269  500.0  55000.0  100000.0   \n",
       "\n",
       "                            \n",
       "             75%       max  \n",
       "sex                         \n",
       "female  140000.0  170000.0  \n",
       "male    140000.0  170000.0  "
      ]
     },
     "execution_count": 33,
     "metadata": {},
     "output_type": "execute_result"
    }
   ],
   "source": [
    "df_married = df.loc[(df['marital'] == 'married')]\n",
    "df_married.loc[:,['sex','income16']].groupby('sex').describe()"
   ]
  },
  {
   "cell_type": "code",
   "execution_count": 34,
   "id": "4bff15dd-a113-42ea-a3e6-f149cbafe5f7",
   "metadata": {},
   "outputs": [
    {
     "name": "stdout",
     "output_type": "stream",
     "text": [
      "MARRIED\n",
      "\n",
      "Percent difference: 14.4%\n",
      "Baseline: 19.8%\n"
     ]
    }
   ],
   "source": [
    "print(\"MARRIED\\n\")\n",
    "print(\"Percent difference: \" + str(round((46850.105022 - 40950.893647)/40950.893647*100,1)) + \"%\")\n",
    "print(\"Baseline: 19.8%\")"
   ]
  },
  {
   "cell_type": "code",
   "execution_count": 35,
   "id": "bb94e09a-4510-44e6-909a-ac44829aa8ef",
   "metadata": {},
   "outputs": [
    {
     "data": {
      "text/html": [
       "<div>\n",
       "<style scoped>\n",
       "    .dataframe tbody tr th:only-of-type {\n",
       "        vertical-align: middle;\n",
       "    }\n",
       "\n",
       "    .dataframe tbody tr th {\n",
       "        vertical-align: top;\n",
       "    }\n",
       "\n",
       "    .dataframe thead tr th {\n",
       "        text-align: left;\n",
       "    }\n",
       "\n",
       "    .dataframe thead tr:last-of-type th {\n",
       "        text-align: right;\n",
       "    }\n",
       "</style>\n",
       "<table border=\"1\" class=\"dataframe\">\n",
       "  <thead>\n",
       "    <tr>\n",
       "      <th></th>\n",
       "      <th colspan=\"8\" halign=\"left\">income16</th>\n",
       "    </tr>\n",
       "    <tr>\n",
       "      <th></th>\n",
       "      <th>count</th>\n",
       "      <th>mean</th>\n",
       "      <th>std</th>\n",
       "      <th>min</th>\n",
       "      <th>25%</th>\n",
       "      <th>50%</th>\n",
       "      <th>75%</th>\n",
       "      <th>max</th>\n",
       "    </tr>\n",
       "    <tr>\n",
       "      <th>sex</th>\n",
       "      <th></th>\n",
       "      <th></th>\n",
       "      <th></th>\n",
       "      <th></th>\n",
       "      <th></th>\n",
       "      <th></th>\n",
       "      <th></th>\n",
       "      <th></th>\n",
       "    </tr>\n",
       "  </thead>\n",
       "  <tbody>\n",
       "    <tr>\n",
       "      <th>female</th>\n",
       "      <td>1576.0</td>\n",
       "      <td>47459.390863</td>\n",
       "      <td>42215.649329</td>\n",
       "      <td>500.0</td>\n",
       "      <td>16250.0</td>\n",
       "      <td>35000.0</td>\n",
       "      <td>67500.0</td>\n",
       "      <td>170000.0</td>\n",
       "    </tr>\n",
       "    <tr>\n",
       "      <th>male</th>\n",
       "      <td>1493.0</td>\n",
       "      <td>53810.281313</td>\n",
       "      <td>44122.303855</td>\n",
       "      <td>500.0</td>\n",
       "      <td>21250.0</td>\n",
       "      <td>45000.0</td>\n",
       "      <td>67500.0</td>\n",
       "      <td>170000.0</td>\n",
       "    </tr>\n",
       "  </tbody>\n",
       "</table>\n",
       "</div>"
      ],
      "text/plain": [
       "       income16                                                                \\\n",
       "          count          mean           std    min      25%      50%      75%   \n",
       "sex                                                                             \n",
       "female   1576.0  47459.390863  42215.649329  500.0  16250.0  35000.0  67500.0   \n",
       "male     1493.0  53810.281313  44122.303855  500.0  21250.0  45000.0  67500.0   \n",
       "\n",
       "                  \n",
       "             max  \n",
       "sex               \n",
       "female  170000.0  \n",
       "male    170000.0  "
      ]
     },
     "execution_count": 35,
     "metadata": {},
     "output_type": "execute_result"
    }
   ],
   "source": [
    "df_nevermarried = df.loc[(df['marital'] == 'never married')]\n",
    "df_nevermarried.loc[:,['sex','income16']].groupby('sex').describe()"
   ]
  },
  {
   "cell_type": "code",
   "execution_count": 36,
   "id": "763aff5f-aee2-41dd-a18d-fcc75a4c1a3c",
   "metadata": {},
   "outputs": [
    {
     "name": "stdout",
     "output_type": "stream",
     "text": [
      "NEVER MARRIED\n",
      "\n",
      "Percent difference: 13.4%\n",
      "Baseline: 19.8%\n"
     ]
    }
   ],
   "source": [
    "print(\"NEVER MARRIED\\n\")\n",
    "print(\"Percent difference: \" + str(round((25757.855082 - 22706.739526)/22706.739526*100,1)) + \"%\")\n",
    "print(\"Baseline: 19.8%\")"
   ]
  },
  {
   "cell_type": "code",
   "execution_count": 37,
   "id": "e460a606-a027-4dd8-ac8c-698e2c4af186",
   "metadata": {},
   "outputs": [
    {
     "data": {
      "text/html": [
       "<div>\n",
       "<style scoped>\n",
       "    .dataframe tbody tr th:only-of-type {\n",
       "        vertical-align: middle;\n",
       "    }\n",
       "\n",
       "    .dataframe tbody tr th {\n",
       "        vertical-align: top;\n",
       "    }\n",
       "\n",
       "    .dataframe thead tr th {\n",
       "        text-align: left;\n",
       "    }\n",
       "\n",
       "    .dataframe thead tr:last-of-type th {\n",
       "        text-align: right;\n",
       "    }\n",
       "</style>\n",
       "<table border=\"1\" class=\"dataframe\">\n",
       "  <thead>\n",
       "    <tr>\n",
       "      <th></th>\n",
       "      <th colspan=\"8\" halign=\"left\">income16</th>\n",
       "    </tr>\n",
       "    <tr>\n",
       "      <th></th>\n",
       "      <th>count</th>\n",
       "      <th>mean</th>\n",
       "      <th>std</th>\n",
       "      <th>min</th>\n",
       "      <th>25%</th>\n",
       "      <th>50%</th>\n",
       "      <th>75%</th>\n",
       "      <th>max</th>\n",
       "    </tr>\n",
       "    <tr>\n",
       "      <th>sex</th>\n",
       "      <th></th>\n",
       "      <th></th>\n",
       "      <th></th>\n",
       "      <th></th>\n",
       "      <th></th>\n",
       "      <th></th>\n",
       "      <th></th>\n",
       "      <th></th>\n",
       "    </tr>\n",
       "  </thead>\n",
       "  <tbody>\n",
       "    <tr>\n",
       "      <th>female</th>\n",
       "      <td>1201.0</td>\n",
       "      <td>49256.244796</td>\n",
       "      <td>40364.282150</td>\n",
       "      <td>500.0</td>\n",
       "      <td>18750.0</td>\n",
       "      <td>37500.0</td>\n",
       "      <td>67500.0</td>\n",
       "      <td>170000.0</td>\n",
       "    </tr>\n",
       "    <tr>\n",
       "      <th>male</th>\n",
       "      <td>772.0</td>\n",
       "      <td>56947.538860</td>\n",
       "      <td>44942.144684</td>\n",
       "      <td>500.0</td>\n",
       "      <td>21250.0</td>\n",
       "      <td>45000.0</td>\n",
       "      <td>82500.0</td>\n",
       "      <td>170000.0</td>\n",
       "    </tr>\n",
       "  </tbody>\n",
       "</table>\n",
       "</div>"
      ],
      "text/plain": [
       "       income16                                                                \\\n",
       "          count          mean           std    min      25%      50%      75%   \n",
       "sex                                                                             \n",
       "female   1201.0  49256.244796  40364.282150  500.0  18750.0  37500.0  67500.0   \n",
       "male      772.0  56947.538860  44942.144684  500.0  21250.0  45000.0  82500.0   \n",
       "\n",
       "                  \n",
       "             max  \n",
       "sex               \n",
       "female  170000.0  \n",
       "male    170000.0  "
      ]
     },
     "execution_count": 37,
     "metadata": {},
     "output_type": "execute_result"
    }
   ],
   "source": [
    "df_divorced = df.loc[(df['marital'] == 'divorced')]\n",
    "df_divorced.loc[:,['sex','income16']].groupby('sex').describe()"
   ]
  },
  {
   "cell_type": "code",
   "execution_count": 38,
   "id": "5226818d-cabc-4ca9-91b2-6d608bbae418",
   "metadata": {},
   "outputs": [
    {
     "name": "stdout",
     "output_type": "stream",
     "text": [
      "DIVORCED\n",
      "\n",
      "Percent difference: 6.4%\n",
      "Baseline: 19.8%\n"
     ]
    }
   ],
   "source": [
    "print(\"DIVORCED\\n\")\n",
    "print(\"Percent difference: \" + str(round((26888.990826 - 25269.863306)/25269.863306*100,1)) + \"%\")\n",
    "print(\"Baseline: 19.8%\")"
   ]
  },
  {
   "cell_type": "code",
   "execution_count": 40,
   "id": "6392c466-6357-4d90-8b0f-a817643785b5",
   "metadata": {},
   "outputs": [
    {
     "data": {
      "text/html": [
       "<div>\n",
       "<style scoped>\n",
       "    .dataframe tbody tr th:only-of-type {\n",
       "        vertical-align: middle;\n",
       "    }\n",
       "\n",
       "    .dataframe tbody tr th {\n",
       "        vertical-align: top;\n",
       "    }\n",
       "\n",
       "    .dataframe thead tr th {\n",
       "        text-align: left;\n",
       "    }\n",
       "\n",
       "    .dataframe thead tr:last-of-type th {\n",
       "        text-align: right;\n",
       "    }\n",
       "</style>\n",
       "<table border=\"1\" class=\"dataframe\">\n",
       "  <thead>\n",
       "    <tr>\n",
       "      <th></th>\n",
       "      <th colspan=\"8\" halign=\"left\">income16</th>\n",
       "    </tr>\n",
       "    <tr>\n",
       "      <th></th>\n",
       "      <th>count</th>\n",
       "      <th>mean</th>\n",
       "      <th>std</th>\n",
       "      <th>min</th>\n",
       "      <th>25%</th>\n",
       "      <th>50%</th>\n",
       "      <th>75%</th>\n",
       "      <th>max</th>\n",
       "    </tr>\n",
       "    <tr>\n",
       "      <th>sex</th>\n",
       "      <th></th>\n",
       "      <th></th>\n",
       "      <th></th>\n",
       "      <th></th>\n",
       "      <th></th>\n",
       "      <th></th>\n",
       "      <th></th>\n",
       "      <th></th>\n",
       "    </tr>\n",
       "  </thead>\n",
       "  <tbody>\n",
       "    <tr>\n",
       "      <th>female</th>\n",
       "      <td>601.0</td>\n",
       "      <td>43706.322795</td>\n",
       "      <td>38490.554382</td>\n",
       "      <td>500.0</td>\n",
       "      <td>16250.0</td>\n",
       "      <td>32500.0</td>\n",
       "      <td>55000.0</td>\n",
       "      <td>170000.0</td>\n",
       "    </tr>\n",
       "    <tr>\n",
       "      <th>male</th>\n",
       "      <td>246.0</td>\n",
       "      <td>58878.048780</td>\n",
       "      <td>47177.188428</td>\n",
       "      <td>500.0</td>\n",
       "      <td>23750.0</td>\n",
       "      <td>45000.0</td>\n",
       "      <td>82500.0</td>\n",
       "      <td>170000.0</td>\n",
       "    </tr>\n",
       "  </tbody>\n",
       "</table>\n",
       "</div>"
      ],
      "text/plain": [
       "       income16                                                                \\\n",
       "          count          mean           std    min      25%      50%      75%   \n",
       "sex                                                                             \n",
       "female    601.0  43706.322795  38490.554382  500.0  16250.0  32500.0  55000.0   \n",
       "male      246.0  58878.048780  47177.188428  500.0  23750.0  45000.0  82500.0   \n",
       "\n",
       "                  \n",
       "             max  \n",
       "sex               \n",
       "female  170000.0  \n",
       "male    170000.0  "
      ]
     },
     "execution_count": 40,
     "metadata": {},
     "output_type": "execute_result"
    }
   ],
   "source": [
    "df_widowed = df.loc[(df['marital'] == 'widowed')]\n",
    "df_widowed.loc[:,['sex','income16']].groupby('sex').describe()"
   ]
  },
  {
   "cell_type": "code",
   "execution_count": 41,
   "id": "c2fb05cd-a488-4ab7-b528-6f5186a233f8",
   "metadata": {},
   "outputs": [
    {
     "name": "stdout",
     "output_type": "stream",
     "text": [
      "WIDOWED\n",
      "\n",
      "Percent difference: 66.8%\n",
      "Baseline: 19.8%\n"
     ]
    }
   ],
   "source": [
    "print(\"WIDOWED\\n\")\n",
    "print(\"Percent difference: \" + str(round((29863.917526 - 17905.589639)/17905.589639*100,1)) + \"%\")\n",
    "print(\"Baseline: 19.8%\")"
   ]
  },
  {
   "cell_type": "markdown",
   "id": "66a5568c-379c-4615-8585-6782286f4a38",
   "metadata": {},
   "source": [
    "Overall, we see that the gender wage gap is slightly lower for individuals that are unmarried, except in the case of widowed individuals, in which there is a dramatic wage gap. It is noteworthy, though, that the sample size of widowed men is significantly lower than that of widowed women; we know women tend to live longer than men, so this is to be expected, but this does also hint that there may be other extenuating factors that make this group have a particularly large wage gap, including the argument posed for the \"very old\" group from the previous section."
   ]
  },
  {
   "cell_type": "markdown",
   "id": "2ac43eeb-cac1-4769-a714-ff31b46628c0",
   "metadata": {},
   "source": [
    "## The impact of education on gender wage gap:\n",
    "Like in the previous section, since there are relatively few groups of education levels, we can begin with a bar graph to look for any visually apparent trends:"
   ]
  },
  {
   "cell_type": "code",
   "execution_count": 42,
   "id": "bc704986-b26a-41f8-bcc4-092ea4483514",
   "metadata": {},
   "outputs": [
    {
     "data": {
      "text/plain": [
       "<Axes: xlabel='degree', ylabel='income16'>"
      ]
     },
     "execution_count": 42,
     "metadata": {},
     "output_type": "execute_result"
    },
    {
     "data": {
      "image/png": "[encoded data removed]",
      "text/plain": [
       "<Figure size 720x432 with 1 Axes>"
      ]
     },
     "metadata": {
      "needs_background": "light"
     },
     "output_type": "display_data"
    }
   ],
   "source": [
    "fig, ax = plt.subplots(1,1,figsize=(10,6))\n",
    "sns.barplot(data=df,x='degree',y='income16',hue='sex',ax=ax)"
   ]
  },
  {
   "cell_type": "markdown",
   "id": "b149aa6f-566a-4d83-92be-0f336c253e4e",
   "metadata": {},
   "source": [
    "From this, it appears that the gender wage gap may be lower for individuals with higher levels of education. As in the previous section, we can examine the statistics for each of these groups as well, comparing wage gap percentages to our baseline level:"
   ]
  },
  {
   "cell_type": "code",
   "execution_count": 43,
   "id": "4e292a13-3cc3-4c70-b427-9c01e8b9440c",
   "metadata": {},
   "outputs": [
    {
     "data": {
      "text/html": [
       "<div>\n",
       "<style scoped>\n",
       "    .dataframe tbody tr th:only-of-type {\n",
       "        vertical-align: middle;\n",
       "    }\n",
       "\n",
       "    .dataframe tbody tr th {\n",
       "        vertical-align: top;\n",
       "    }\n",
       "\n",
       "    .dataframe thead tr th {\n",
       "        text-align: left;\n",
       "    }\n",
       "\n",
       "    .dataframe thead tr:last-of-type th {\n",
       "        text-align: right;\n",
       "    }\n",
       "</style>\n",
       "<table border=\"1\" class=\"dataframe\">\n",
       "  <thead>\n",
       "    <tr>\n",
       "      <th></th>\n",
       "      <th colspan=\"8\" halign=\"left\">income16</th>\n",
       "    </tr>\n",
       "    <tr>\n",
       "      <th></th>\n",
       "      <th>count</th>\n",
       "      <th>mean</th>\n",
       "      <th>std</th>\n",
       "      <th>min</th>\n",
       "      <th>25%</th>\n",
       "      <th>50%</th>\n",
       "      <th>75%</th>\n",
       "      <th>max</th>\n",
       "    </tr>\n",
       "    <tr>\n",
       "      <th>sex</th>\n",
       "      <th></th>\n",
       "      <th></th>\n",
       "      <th></th>\n",
       "      <th></th>\n",
       "      <th></th>\n",
       "      <th></th>\n",
       "      <th></th>\n",
       "      <th></th>\n",
       "    </tr>\n",
       "  </thead>\n",
       "  <tbody>\n",
       "    <tr>\n",
       "      <th>female</th>\n",
       "      <td>2762.0</td>\n",
       "      <td>49108.979001</td>\n",
       "      <td>40278.001354</td>\n",
       "      <td>500.0</td>\n",
       "      <td>18750.0</td>\n",
       "      <td>37500.0</td>\n",
       "      <td>67500.0</td>\n",
       "      <td>170000.0</td>\n",
       "    </tr>\n",
       "    <tr>\n",
       "      <th>male</th>\n",
       "      <td>2401.0</td>\n",
       "      <td>61477.613494</td>\n",
       "      <td>44370.976269</td>\n",
       "      <td>500.0</td>\n",
       "      <td>27500.0</td>\n",
       "      <td>55000.0</td>\n",
       "      <td>82500.0</td>\n",
       "      <td>170000.0</td>\n",
       "    </tr>\n",
       "  </tbody>\n",
       "</table>\n",
       "</div>"
      ],
      "text/plain": [
       "       income16                                                                \\\n",
       "          count          mean           std    min      25%      50%      75%   \n",
       "sex                                                                             \n",
       "female   2762.0  49108.979001  40278.001354  500.0  18750.0  37500.0  67500.0   \n",
       "male     2401.0  61477.613494  44370.976269  500.0  27500.0  55000.0  82500.0   \n",
       "\n",
       "                  \n",
       "             max  \n",
       "sex               \n",
       "female  170000.0  \n",
       "male    170000.0  "
      ]
     },
     "execution_count": 43,
     "metadata": {},
     "output_type": "execute_result"
    }
   ],
   "source": [
    "df_highschool = df.loc[(df['degree'] == 'high school')]\n",
    "df_highschool.loc[:,['sex','income16']].groupby('sex').describe()"
   ]
  },
  {
   "cell_type": "code",
   "execution_count": 49,
   "id": "6d040bdc-da88-4292-90d5-0eb5b1eea29a",
   "metadata": {},
   "outputs": [
    {
     "name": "stdout",
     "output_type": "stream",
     "text": [
      "HIGH SCHOOL\n",
      "\n",
      "Percent difference: 31.6%\n",
      "Baseline: 19.8%\n"
     ]
    }
   ],
   "source": [
    "print(\"HIGH SCHOOL\\n\")\n",
    "print(\"Percent difference: \" + str(round((28240.399312 - 21460.088342)/21460.088342*100,1)) + \"%\")\n",
    "print(\"Baseline: 19.8%\")"
   ]
  },
  {
   "cell_type": "code",
   "execution_count": 50,
   "id": "6d5aacce-5722-47f5-91f5-7f9f03b34914",
   "metadata": {},
   "outputs": [
    {
     "data": {
      "text/html": [
       "<div>\n",
       "<style scoped>\n",
       "    .dataframe tbody tr th:only-of-type {\n",
       "        vertical-align: middle;\n",
       "    }\n",
       "\n",
       "    .dataframe tbody tr th {\n",
       "        vertical-align: top;\n",
       "    }\n",
       "\n",
       "    .dataframe thead tr th {\n",
       "        text-align: left;\n",
       "    }\n",
       "</style>\n",
       "<table border=\"1\" class=\"dataframe\">\n",
       "  <thead>\n",
       "    <tr>\n",
       "      <th></th>\n",
       "      <th colspan=\"8\" halign=\"left\">income16</th>\n",
       "    </tr>\n",
       "    <tr>\n",
       "      <th></th>\n",
       "      <th>count</th>\n",
       "      <th>mean</th>\n",
       "      <th>std</th>\n",
       "      <th>min</th>\n",
       "      <th>25%</th>\n",
       "      <th>50%</th>\n",
       "      <th>75%</th>\n",
       "      <th>max</th>\n",
       "    </tr>\n",
       "  </thead>\n",
       "  <tbody>\n",
       "  </tbody>\n",
       "</table>\n",
       "</div>"
      ],
      "text/plain": [
       "Empty DataFrame\n",
       "Columns: [(income16, count), (income16, mean), (income16, std), (income16, min), (income16, 25%), (income16, 50%), (income16, 75%), (income16, max)]\n",
       "Index: []"
      ]
     },
     "execution_count": 50,
     "metadata": {},
     "output_type": "execute_result"
    }
   ],
   "source": [
    "df_bachelors = df.loc[(df['degree'] == \"BACHELOR'S\")]\n",
    "df_bachelors.loc[:,['sex','income16']].groupby('sex').describe()"
   ]
  },
  {
   "cell_type": "code",
   "execution_count": 51,
   "id": "afe0fb36-9e64-46b5-8b79-cc56630f72c4",
   "metadata": {},
   "outputs": [
    {
     "name": "stdout",
     "output_type": "stream",
     "text": [
      "BACHELOR'S\n",
      "\n",
      "Percent difference: 8.4%\n",
      "Baseline: 19.8%\n"
     ]
    }
   ],
   "source": [
    "print(\"BACHELOR'S\\n\")\n",
    "print(\"Percent difference: \" + str(round((50684.967772 - 46760.514019)/46760.514019*100,1)) + \"%\")\n",
    "print(\"Baseline: 19.8%\")"
   ]
  },
  {
   "cell_type": "code",
   "execution_count": 52,
   "id": "69c14795-af9b-4518-bc0d-4c9710695828",
   "metadata": {},
   "outputs": [
    {
     "data": {
      "text/html": [
       "<div>\n",
       "<style scoped>\n",
       "    .dataframe tbody tr th:only-of-type {\n",
       "        vertical-align: middle;\n",
       "    }\n",
       "\n",
       "    .dataframe tbody tr th {\n",
       "        vertical-align: top;\n",
       "    }\n",
       "\n",
       "    .dataframe thead tr th {\n",
       "        text-align: left;\n",
       "    }\n",
       "\n",
       "    .dataframe thead tr:last-of-type th {\n",
       "        text-align: right;\n",
       "    }\n",
       "</style>\n",
       "<table border=\"1\" class=\"dataframe\">\n",
       "  <thead>\n",
       "    <tr>\n",
       "      <th></th>\n",
       "      <th colspan=\"8\" halign=\"left\">income16</th>\n",
       "    </tr>\n",
       "    <tr>\n",
       "      <th></th>\n",
       "      <th>count</th>\n",
       "      <th>mean</th>\n",
       "      <th>std</th>\n",
       "      <th>min</th>\n",
       "      <th>25%</th>\n",
       "      <th>50%</th>\n",
       "      <th>75%</th>\n",
       "      <th>max</th>\n",
       "    </tr>\n",
       "    <tr>\n",
       "      <th>sex</th>\n",
       "      <th></th>\n",
       "      <th></th>\n",
       "      <th></th>\n",
       "      <th></th>\n",
       "      <th></th>\n",
       "      <th></th>\n",
       "      <th></th>\n",
       "      <th></th>\n",
       "    </tr>\n",
       "  </thead>\n",
       "  <tbody>\n",
       "    <tr>\n",
       "      <th>female</th>\n",
       "      <td>584.0</td>\n",
       "      <td>60672.517123</td>\n",
       "      <td>43214.063514</td>\n",
       "      <td>500.0</td>\n",
       "      <td>27500.0</td>\n",
       "      <td>55000.0</td>\n",
       "      <td>82500.0</td>\n",
       "      <td>170000.0</td>\n",
       "    </tr>\n",
       "    <tr>\n",
       "      <th>male</th>\n",
       "      <td>417.0</td>\n",
       "      <td>70574.940048</td>\n",
       "      <td>47943.224902</td>\n",
       "      <td>500.0</td>\n",
       "      <td>32500.0</td>\n",
       "      <td>67500.0</td>\n",
       "      <td>100000.0</td>\n",
       "      <td>170000.0</td>\n",
       "    </tr>\n",
       "  </tbody>\n",
       "</table>\n",
       "</div>"
      ],
      "text/plain": [
       "       income16                                                       \\\n",
       "          count          mean           std    min      25%      50%   \n",
       "sex                                                                    \n",
       "female    584.0  60672.517123  43214.063514  500.0  27500.0  55000.0   \n",
       "male      417.0  70574.940048  47943.224902  500.0  32500.0  67500.0   \n",
       "\n",
       "                            \n",
       "             75%       max  \n",
       "sex                         \n",
       "female   82500.0  170000.0  \n",
       "male    100000.0  170000.0  "
      ]
     },
     "execution_count": 52,
     "metadata": {},
     "output_type": "execute_result"
    }
   ],
   "source": [
    "df_associates = df.loc[(df['degree'] == \"associate/junior college\")]\n",
    "df_associates.loc[:,['sex','income16']].groupby('sex').describe()"
   ]
  },
  {
   "cell_type": "code",
   "execution_count": 53,
   "id": "46f39588-4783-4815-81b6-2930acceb39d",
   "metadata": {},
   "outputs": [
    {
     "name": "stdout",
     "output_type": "stream",
     "text": [
      "ASSOCIATE/JUNIOR COLLEGE\n",
      "\n",
      "Percent difference: 26.9%\n",
      "Baseline: 19.8%\n"
     ]
    }
   ],
   "source": [
    "print(\"ASSOCIATE/JUNIOR COLLEGE\\n\")\n",
    "print(\"Percent difference: \" + str(round((37651.534527 - 29672.031773)/29672.031773*100,1)) + \"%\")\n",
    "print(\"Baseline: 19.8%\")"
   ]
  },
  {
   "cell_type": "code",
   "execution_count": 54,
   "id": "bdf617dd-3746-416a-bea3-7b251c16eed0",
   "metadata": {},
   "outputs": [
    {
     "data": {
      "text/html": [
       "<div>\n",
       "<style scoped>\n",
       "    .dataframe tbody tr th:only-of-type {\n",
       "        vertical-align: middle;\n",
       "    }\n",
       "\n",
       "    .dataframe tbody tr th {\n",
       "        vertical-align: top;\n",
       "    }\n",
       "\n",
       "    .dataframe thead tr th {\n",
       "        text-align: left;\n",
       "    }\n",
       "\n",
       "    .dataframe thead tr:last-of-type th {\n",
       "        text-align: right;\n",
       "    }\n",
       "</style>\n",
       "<table border=\"1\" class=\"dataframe\">\n",
       "  <thead>\n",
       "    <tr>\n",
       "      <th></th>\n",
       "      <th colspan=\"8\" halign=\"left\">income16</th>\n",
       "    </tr>\n",
       "    <tr>\n",
       "      <th></th>\n",
       "      <th>count</th>\n",
       "      <th>mean</th>\n",
       "      <th>std</th>\n",
       "      <th>min</th>\n",
       "      <th>25%</th>\n",
       "      <th>50%</th>\n",
       "      <th>75%</th>\n",
       "      <th>max</th>\n",
       "    </tr>\n",
       "    <tr>\n",
       "      <th>sex</th>\n",
       "      <th></th>\n",
       "      <th></th>\n",
       "      <th></th>\n",
       "      <th></th>\n",
       "      <th></th>\n",
       "      <th></th>\n",
       "      <th></th>\n",
       "      <th></th>\n",
       "    </tr>\n",
       "  </thead>\n",
       "  <tbody>\n",
       "    <tr>\n",
       "      <th>female</th>\n",
       "      <td>910.0</td>\n",
       "      <td>101813.186813</td>\n",
       "      <td>51212.626146</td>\n",
       "      <td>500.0</td>\n",
       "      <td>55000.0</td>\n",
       "      <td>100000.0</td>\n",
       "      <td>160000.0</td>\n",
       "      <td>170000.0</td>\n",
       "    </tr>\n",
       "    <tr>\n",
       "      <th>male</th>\n",
       "      <td>756.0</td>\n",
       "      <td>114111.772487</td>\n",
       "      <td>50781.285730</td>\n",
       "      <td>500.0</td>\n",
       "      <td>67500.0</td>\n",
       "      <td>120000.0</td>\n",
       "      <td>170000.0</td>\n",
       "      <td>170000.0</td>\n",
       "    </tr>\n",
       "  </tbody>\n",
       "</table>\n",
       "</div>"
      ],
      "text/plain": [
       "       income16                                                         \\\n",
       "          count           mean           std    min      25%       50%   \n",
       "sex                                                                      \n",
       "female    910.0  101813.186813  51212.626146  500.0  55000.0  100000.0   \n",
       "male      756.0  114111.772487  50781.285730  500.0  67500.0  120000.0   \n",
       "\n",
       "                            \n",
       "             75%       max  \n",
       "sex                         \n",
       "female  160000.0  170000.0  \n",
       "male    170000.0  170000.0  "
      ]
     },
     "execution_count": 54,
     "metadata": {},
     "output_type": "execute_result"
    }
   ],
   "source": [
    "df_graduate = df.loc[(df['degree'] == \"graduate\")]\n",
    "df_graduate.loc[:,['sex','income16']].groupby('sex').describe()"
   ]
  },
  {
   "cell_type": "code",
   "execution_count": 55,
   "id": "d4abcebc-9486-4da2-87b6-41c53df6a055",
   "metadata": {},
   "outputs": [
    {
     "name": "stdout",
     "output_type": "stream",
     "text": [
      "GRADUATE\n",
      "\n",
      "Percent difference: 10.4%\n",
      "Baseline: 19.8%\n"
     ]
    }
   ],
   "source": [
    "print(\"GRADUATE\\n\")\n",
    "print(\"Percent difference: \" + str(round((64845.086272 - 58750.792644)/58750.792644*100,1)) + \"%\")\n",
    "print(\"Baseline: 19.8%\")"
   ]
  },
  {
   "cell_type": "code",
   "execution_count": 56,
   "id": "d4c00d3c-663f-4391-b166-0055a457558b",
   "metadata": {},
   "outputs": [
    {
     "data": {
      "text/html": [
       "<div>\n",
       "<style scoped>\n",
       "    .dataframe tbody tr th:only-of-type {\n",
       "        vertical-align: middle;\n",
       "    }\n",
       "\n",
       "    .dataframe tbody tr th {\n",
       "        vertical-align: top;\n",
       "    }\n",
       "\n",
       "    .dataframe thead tr th {\n",
       "        text-align: left;\n",
       "    }\n",
       "\n",
       "    .dataframe thead tr:last-of-type th {\n",
       "        text-align: right;\n",
       "    }\n",
       "</style>\n",
       "<table border=\"1\" class=\"dataframe\">\n",
       "  <thead>\n",
       "    <tr>\n",
       "      <th></th>\n",
       "      <th colspan=\"8\" halign=\"left\">income16</th>\n",
       "    </tr>\n",
       "    <tr>\n",
       "      <th></th>\n",
       "      <th>count</th>\n",
       "      <th>mean</th>\n",
       "      <th>std</th>\n",
       "      <th>min</th>\n",
       "      <th>25%</th>\n",
       "      <th>50%</th>\n",
       "      <th>75%</th>\n",
       "      <th>max</th>\n",
       "    </tr>\n",
       "    <tr>\n",
       "      <th>sex</th>\n",
       "      <th></th>\n",
       "      <th></th>\n",
       "      <th></th>\n",
       "      <th></th>\n",
       "      <th></th>\n",
       "      <th></th>\n",
       "      <th></th>\n",
       "      <th></th>\n",
       "    </tr>\n",
       "  </thead>\n",
       "  <tbody>\n",
       "    <tr>\n",
       "      <th>female</th>\n",
       "      <td>529.0</td>\n",
       "      <td>29930.529301</td>\n",
       "      <td>32856.840804</td>\n",
       "      <td>500.0</td>\n",
       "      <td>9000.0</td>\n",
       "      <td>21250.0</td>\n",
       "      <td>37500.0</td>\n",
       "      <td>170000.0</td>\n",
       "    </tr>\n",
       "    <tr>\n",
       "      <th>male</th>\n",
       "      <td>422.0</td>\n",
       "      <td>40473.933649</td>\n",
       "      <td>38084.010250</td>\n",
       "      <td>500.0</td>\n",
       "      <td>11250.0</td>\n",
       "      <td>27500.0</td>\n",
       "      <td>55000.0</td>\n",
       "      <td>170000.0</td>\n",
       "    </tr>\n",
       "  </tbody>\n",
       "</table>\n",
       "</div>"
      ],
      "text/plain": [
       "       income16                                                                \\\n",
       "          count          mean           std    min      25%      50%      75%   \n",
       "sex                                                                             \n",
       "female    529.0  29930.529301  32856.840804  500.0   9000.0  21250.0  37500.0   \n",
       "male      422.0  40473.933649  38084.010250  500.0  11250.0  27500.0  55000.0   \n",
       "\n",
       "                  \n",
       "             max  \n",
       "sex               \n",
       "female  170000.0  \n",
       "male    170000.0  "
      ]
     },
     "execution_count": 56,
     "metadata": {},
     "output_type": "execute_result"
    }
   ],
   "source": [
    "df_less = df.loc[(df['degree'] == \"less than high school\")]\n",
    "df_less.loc[:,['sex','income16']].groupby('sex').describe()"
   ]
  },
  {
   "cell_type": "code",
   "execution_count": 57,
   "id": "16941681-f560-468a-8894-e0349f360603",
   "metadata": {},
   "outputs": [
    {
     "name": "stdout",
     "output_type": "stream",
     "text": [
      "LESS THAN HIGH SCHOOL\n",
      "\n",
      "Percent difference: 31.8%\n",
      "Baseline: 19.8%\n"
     ]
    }
   ],
   "source": [
    "print(\"LESS THAN HIGH SCHOOL\\n\")\n",
    "print(\"Percent difference: \" + str(round((13651.158147 - 10357.514639)/10357.514639*100,1)) + \"%\")\n",
    "print(\"Baseline: 19.8%\")"
   ]
  },
  {
   "cell_type": "markdown",
   "id": "7676371b-5d58-4ecc-9d39-6b0659d598dc",
   "metadata": {},
   "source": [
    "Overall, we do see that the gender wage gap is highest for those with the lowest levels of education, and tends to decrease with increasing education. As backed up with the data, the graphs show how the wage gap changes across different education levels. Understanding this relationship between education and the gender wage gap is crucial for developing targeted strategies to address wage disparities and promote gender equality in the workplace."
   ]
  },
  {
   "cell_type": "markdown",
   "id": "d3df7718-176f-4df9-bc02-a99b0020d51f",
   "metadata": {},
   "source": [
    "## The Impact of Industry on Gender Wage Gap:"
   ]
  },
  {
   "cell_type": "code",
   "execution_count": 58,
   "id": "c6d28ca4-4eec-49f6-aa04-96ba31bb7448",
   "metadata": {},
   "outputs": [
    {
     "name": "stderr",
     "output_type": "stream",
     "text": [
      "<ipython-input-58-0a2755e32595>:3: UserWarning: set_ticklabels() should only be used with a fixed number of ticks, i.e. after set_ticks() or using a FixedLocator.\n",
      "  ax.set_xticklabels(ax.get_xticklabels(), fontsize=8, rotation=45)\n"
     ]
    },
    {
     "data": {
      "image/png": "[encoded data removed]",
      "text/plain": [
       "<Figure size 720x432 with 1 Axes>"
      ]
     },
     "metadata": {
      "needs_background": "light"
     },
     "output_type": "display_data"
    }
   ],
   "source": [
    "fig, ax = plt.subplots(1,1,figsize=(10,6))\n",
    "sns.barplot(data=df,x='indus10',y='income16',hue='sex',ax=ax)\n",
    "ax.set_xticklabels(ax.get_xticklabels(), fontsize=8, rotation=45)\n",
    "\n",
    "plt.show()"
   ]
  },
  {
   "cell_type": "markdown",
   "id": "9c0cab68-e357-4ab8-a10f-fac0543bee1d",
   "metadata": {},
   "source": [
    "From the barplot, it is evident that the male gender tends to have a higher income across all industries with the exception of management, business, science, and arts occuptions. To analyze this further, let's look at the statistics"
   ]
  },
  {
   "cell_type": "code",
   "execution_count": 59,
   "id": "9fb4cc25-dc56-4eb9-9de6-b73460f1bf23",
   "metadata": {},
   "outputs": [
    {
     "data": {
      "text/html": [
       "<div>\n",
       "<style scoped>\n",
       "    .dataframe tbody tr th:only-of-type {\n",
       "        vertical-align: middle;\n",
       "    }\n",
       "\n",
       "    .dataframe tbody tr th {\n",
       "        vertical-align: top;\n",
       "    }\n",
       "\n",
       "    .dataframe thead tr th {\n",
       "        text-align: left;\n",
       "    }\n",
       "\n",
       "    .dataframe thead tr:last-of-type th {\n",
       "        text-align: right;\n",
       "    }\n",
       "</style>\n",
       "<table border=\"1\" class=\"dataframe\">\n",
       "  <thead>\n",
       "    <tr>\n",
       "      <th></th>\n",
       "      <th colspan=\"8\" halign=\"left\">income16</th>\n",
       "    </tr>\n",
       "    <tr>\n",
       "      <th></th>\n",
       "      <th>count</th>\n",
       "      <th>mean</th>\n",
       "      <th>std</th>\n",
       "      <th>min</th>\n",
       "      <th>25%</th>\n",
       "      <th>50%</th>\n",
       "      <th>75%</th>\n",
       "      <th>max</th>\n",
       "    </tr>\n",
       "    <tr>\n",
       "      <th>sex</th>\n",
       "      <th></th>\n",
       "      <th></th>\n",
       "      <th></th>\n",
       "      <th></th>\n",
       "      <th></th>\n",
       "      <th></th>\n",
       "      <th></th>\n",
       "      <th></th>\n",
       "    </tr>\n",
       "  </thead>\n",
       "  <tbody>\n",
       "    <tr>\n",
       "      <th>female</th>\n",
       "      <td>3436.0</td>\n",
       "      <td>66091.385332</td>\n",
       "      <td>49239.597960</td>\n",
       "      <td>500.0</td>\n",
       "      <td>27500.0</td>\n",
       "      <td>55000.0</td>\n",
       "      <td>100000.0</td>\n",
       "      <td>170000.0</td>\n",
       "    </tr>\n",
       "    <tr>\n",
       "      <th>male</th>\n",
       "      <td>1731.0</td>\n",
       "      <td>73908.001155</td>\n",
       "      <td>51114.270638</td>\n",
       "      <td>500.0</td>\n",
       "      <td>32500.0</td>\n",
       "      <td>67500.0</td>\n",
       "      <td>100000.0</td>\n",
       "      <td>170000.0</td>\n",
       "    </tr>\n",
       "  </tbody>\n",
       "</table>\n",
       "</div>"
      ],
      "text/plain": [
       "       income16                                                       \\\n",
       "          count          mean           std    min      25%      50%   \n",
       "sex                                                                    \n",
       "female   3436.0  66091.385332  49239.597960  500.0  27500.0  55000.0   \n",
       "male     1731.0  73908.001155  51114.270638  500.0  32500.0  67500.0   \n",
       "\n",
       "                            \n",
       "             75%       max  \n",
       "sex                         \n",
       "female  100000.0  170000.0  \n",
       "male    100000.0  170000.0  "
      ]
     },
     "execution_count": 59,
     "metadata": {},
     "output_type": "execute_result"
    }
   ],
   "source": [
    "df_productionindus = df.loc[(df['indus10'] == \"Production, Transportation, and Material Moving Occupations\")]\n",
    "df_productionindus.loc[:,['sex','income16']].groupby('sex').describe()"
   ]
  },
  {
   "cell_type": "code",
   "execution_count": 60,
   "id": "fae40652-b790-413c-9c9c-e7c0edc71922",
   "metadata": {},
   "outputs": [
    {
     "data": {
      "text/html": [
       "<div>\n",
       "<style scoped>\n",
       "    .dataframe tbody tr th:only-of-type {\n",
       "        vertical-align: middle;\n",
       "    }\n",
       "\n",
       "    .dataframe tbody tr th {\n",
       "        vertical-align: top;\n",
       "    }\n",
       "\n",
       "    .dataframe thead tr th {\n",
       "        text-align: left;\n",
       "    }\n",
       "\n",
       "    .dataframe thead tr:last-of-type th {\n",
       "        text-align: right;\n",
       "    }\n",
       "</style>\n",
       "<table border=\"1\" class=\"dataframe\">\n",
       "  <thead>\n",
       "    <tr>\n",
       "      <th></th>\n",
       "      <th colspan=\"8\" halign=\"left\">income16</th>\n",
       "    </tr>\n",
       "    <tr>\n",
       "      <th></th>\n",
       "      <th>count</th>\n",
       "      <th>mean</th>\n",
       "      <th>std</th>\n",
       "      <th>min</th>\n",
       "      <th>25%</th>\n",
       "      <th>50%</th>\n",
       "      <th>75%</th>\n",
       "      <th>max</th>\n",
       "    </tr>\n",
       "    <tr>\n",
       "      <th>sex</th>\n",
       "      <th></th>\n",
       "      <th></th>\n",
       "      <th></th>\n",
       "      <th></th>\n",
       "      <th></th>\n",
       "      <th></th>\n",
       "      <th></th>\n",
       "      <th></th>\n",
       "    </tr>\n",
       "  </thead>\n",
       "  <tbody>\n",
       "    <tr>\n",
       "      <th>female</th>\n",
       "      <td>1138.0</td>\n",
       "      <td>76564.806678</td>\n",
       "      <td>50371.088047</td>\n",
       "      <td>500.0</td>\n",
       "      <td>32500.0</td>\n",
       "      <td>67500.0</td>\n",
       "      <td>100000.0</td>\n",
       "      <td>170000.0</td>\n",
       "    </tr>\n",
       "    <tr>\n",
       "      <th>male</th>\n",
       "      <td>1201.0</td>\n",
       "      <td>91743.130724</td>\n",
       "      <td>54243.324327</td>\n",
       "      <td>500.0</td>\n",
       "      <td>45000.0</td>\n",
       "      <td>82500.0</td>\n",
       "      <td>140000.0</td>\n",
       "      <td>170000.0</td>\n",
       "    </tr>\n",
       "  </tbody>\n",
       "</table>\n",
       "</div>"
      ],
      "text/plain": [
       "       income16                                                       \\\n",
       "          count          mean           std    min      25%      50%   \n",
       "sex                                                                    \n",
       "female   1138.0  76564.806678  50371.088047  500.0  32500.0  67500.0   \n",
       "male     1201.0  91743.130724  54243.324327  500.0  45000.0  82500.0   \n",
       "\n",
       "                            \n",
       "             75%       max  \n",
       "sex                         \n",
       "female  100000.0  170000.0  \n",
       "male    140000.0  170000.0  "
      ]
     },
     "execution_count": 60,
     "metadata": {},
     "output_type": "execute_result"
    }
   ],
   "source": [
    "df_constructionindus = df.loc[(df['indus10'] == \"Natural Resources, Construction, and Maintenance Occupations\")]\n",
    "df_constructionindus.loc[:,['sex','income16']].groupby('sex').describe()"
   ]
  },
  {
   "cell_type": "code",
   "execution_count": 61,
   "id": "5bb055af-37aa-4335-9e59-31af4c1d9c30",
   "metadata": {},
   "outputs": [
    {
     "data": {
      "text/html": [
       "<div>\n",
       "<style scoped>\n",
       "    .dataframe tbody tr th:only-of-type {\n",
       "        vertical-align: middle;\n",
       "    }\n",
       "\n",
       "    .dataframe tbody tr th {\n",
       "        vertical-align: top;\n",
       "    }\n",
       "\n",
       "    .dataframe thead tr th {\n",
       "        text-align: left;\n",
       "    }\n",
       "\n",
       "    .dataframe thead tr:last-of-type th {\n",
       "        text-align: right;\n",
       "    }\n",
       "</style>\n",
       "<table border=\"1\" class=\"dataframe\">\n",
       "  <thead>\n",
       "    <tr>\n",
       "      <th></th>\n",
       "      <th colspan=\"8\" halign=\"left\">income16</th>\n",
       "    </tr>\n",
       "    <tr>\n",
       "      <th></th>\n",
       "      <th>count</th>\n",
       "      <th>mean</th>\n",
       "      <th>std</th>\n",
       "      <th>min</th>\n",
       "      <th>25%</th>\n",
       "      <th>50%</th>\n",
       "      <th>75%</th>\n",
       "      <th>max</th>\n",
       "    </tr>\n",
       "    <tr>\n",
       "      <th>sex</th>\n",
       "      <th></th>\n",
       "      <th></th>\n",
       "      <th></th>\n",
       "      <th></th>\n",
       "      <th></th>\n",
       "      <th></th>\n",
       "      <th></th>\n",
       "      <th></th>\n",
       "    </tr>\n",
       "  </thead>\n",
       "  <tbody>\n",
       "    <tr>\n",
       "      <th>female</th>\n",
       "      <td>567.0</td>\n",
       "      <td>52354.056437</td>\n",
       "      <td>44610.688076</td>\n",
       "      <td>500.0</td>\n",
       "      <td>18750.0</td>\n",
       "      <td>37500.0</td>\n",
       "      <td>67500.0</td>\n",
       "      <td>170000.0</td>\n",
       "    </tr>\n",
       "    <tr>\n",
       "      <th>male</th>\n",
       "      <td>377.0</td>\n",
       "      <td>69251.326260</td>\n",
       "      <td>50626.602269</td>\n",
       "      <td>500.0</td>\n",
       "      <td>27500.0</td>\n",
       "      <td>55000.0</td>\n",
       "      <td>100000.0</td>\n",
       "      <td>170000.0</td>\n",
       "    </tr>\n",
       "  </tbody>\n",
       "</table>\n",
       "</div>"
      ],
      "text/plain": [
       "       income16                                                       \\\n",
       "          count          mean           std    min      25%      50%   \n",
       "sex                                                                    \n",
       "female    567.0  52354.056437  44610.688076  500.0  18750.0  37500.0   \n",
       "male      377.0  69251.326260  50626.602269  500.0  27500.0  55000.0   \n",
       "\n",
       "                            \n",
       "             75%       max  \n",
       "sex                         \n",
       "female   67500.0  170000.0  \n",
       "male    100000.0  170000.0  "
      ]
     },
     "execution_count": 61,
     "metadata": {},
     "output_type": "execute_result"
    }
   ],
   "source": [
    "df_salesindus = df.loc[(df['indus10'] == \"Sales and Office Occupations\")]\n",
    "df_salesindus.loc[:,['sex','income16']].groupby('sex').describe()"
   ]
  },
  {
   "cell_type": "code",
   "execution_count": 62,
   "id": "98abd708-cc4b-4ef2-af40-7f3e725c99f3",
   "metadata": {},
   "outputs": [
    {
     "data": {
      "text/html": [
       "<div>\n",
       "<style scoped>\n",
       "    .dataframe tbody tr th:only-of-type {\n",
       "        vertical-align: middle;\n",
       "    }\n",
       "\n",
       "    .dataframe tbody tr th {\n",
       "        vertical-align: top;\n",
       "    }\n",
       "\n",
       "    .dataframe thead tr th {\n",
       "        text-align: left;\n",
       "    }\n",
       "\n",
       "    .dataframe thead tr:last-of-type th {\n",
       "        text-align: right;\n",
       "    }\n",
       "</style>\n",
       "<table border=\"1\" class=\"dataframe\">\n",
       "  <thead>\n",
       "    <tr>\n",
       "      <th></th>\n",
       "      <th colspan=\"8\" halign=\"left\">income16</th>\n",
       "    </tr>\n",
       "    <tr>\n",
       "      <th></th>\n",
       "      <th>count</th>\n",
       "      <th>mean</th>\n",
       "      <th>std</th>\n",
       "      <th>min</th>\n",
       "      <th>25%</th>\n",
       "      <th>50%</th>\n",
       "      <th>75%</th>\n",
       "      <th>max</th>\n",
       "    </tr>\n",
       "    <tr>\n",
       "      <th>sex</th>\n",
       "      <th></th>\n",
       "      <th></th>\n",
       "      <th></th>\n",
       "      <th></th>\n",
       "      <th></th>\n",
       "      <th></th>\n",
       "      <th></th>\n",
       "      <th></th>\n",
       "    </tr>\n",
       "  </thead>\n",
       "  <tbody>\n",
       "    <tr>\n",
       "      <th>female</th>\n",
       "      <td>489.0</td>\n",
       "      <td>58146.216769</td>\n",
       "      <td>50320.553815</td>\n",
       "      <td>500.0</td>\n",
       "      <td>18750.0</td>\n",
       "      <td>45000.0</td>\n",
       "      <td>82500.0</td>\n",
       "      <td>170000.0</td>\n",
       "    </tr>\n",
       "    <tr>\n",
       "      <th>male</th>\n",
       "      <td>1276.0</td>\n",
       "      <td>66968.847962</td>\n",
       "      <td>47745.391517</td>\n",
       "      <td>500.0</td>\n",
       "      <td>27500.0</td>\n",
       "      <td>55000.0</td>\n",
       "      <td>100000.0</td>\n",
       "      <td>170000.0</td>\n",
       "    </tr>\n",
       "  </tbody>\n",
       "</table>\n",
       "</div>"
      ],
      "text/plain": [
       "       income16                                                       \\\n",
       "          count          mean           std    min      25%      50%   \n",
       "sex                                                                    \n",
       "female    489.0  58146.216769  50320.553815  500.0  18750.0  45000.0   \n",
       "male     1276.0  66968.847962  47745.391517  500.0  27500.0  55000.0   \n",
       "\n",
       "                            \n",
       "             75%       max  \n",
       "sex                         \n",
       "female   82500.0  170000.0  \n",
       "male    100000.0  170000.0  "
      ]
     },
     "execution_count": 62,
     "metadata": {},
     "output_type": "execute_result"
    }
   ],
   "source": [
    "df_managementindus = df.loc[(df['indus10'] == \"Management, Business, Science, and Arts Occupations\")]\n",
    "df_managementindus.loc[:,['sex','income16']].groupby('sex').describe()"
   ]
  },
  {
   "cell_type": "code",
   "execution_count": 63,
   "id": "3aefcfe7-e69a-497a-8ab3-1991b4a6878e",
   "metadata": {},
   "outputs": [
    {
     "data": {
      "text/html": [
       "<div>\n",
       "<style scoped>\n",
       "    .dataframe tbody tr th:only-of-type {\n",
       "        vertical-align: middle;\n",
       "    }\n",
       "\n",
       "    .dataframe tbody tr th {\n",
       "        vertical-align: top;\n",
       "    }\n",
       "\n",
       "    .dataframe thead tr th {\n",
       "        text-align: left;\n",
       "    }\n",
       "\n",
       "    .dataframe thead tr:last-of-type th {\n",
       "        text-align: right;\n",
       "    }\n",
       "</style>\n",
       "<table border=\"1\" class=\"dataframe\">\n",
       "  <thead>\n",
       "    <tr>\n",
       "      <th></th>\n",
       "      <th colspan=\"8\" halign=\"left\">income16</th>\n",
       "    </tr>\n",
       "    <tr>\n",
       "      <th></th>\n",
       "      <th>count</th>\n",
       "      <th>mean</th>\n",
       "      <th>std</th>\n",
       "      <th>min</th>\n",
       "      <th>25%</th>\n",
       "      <th>50%</th>\n",
       "      <th>75%</th>\n",
       "      <th>max</th>\n",
       "    </tr>\n",
       "    <tr>\n",
       "      <th>sex</th>\n",
       "      <th></th>\n",
       "      <th></th>\n",
       "      <th></th>\n",
       "      <th></th>\n",
       "      <th></th>\n",
       "      <th></th>\n",
       "      <th></th>\n",
       "      <th></th>\n",
       "    </tr>\n",
       "  </thead>\n",
       "  <tbody>\n",
       "    <tr>\n",
       "      <th>female</th>\n",
       "      <td>1.0</td>\n",
       "      <td>45000.0</td>\n",
       "      <td>NaN</td>\n",
       "      <td>45000.0</td>\n",
       "      <td>45000.0</td>\n",
       "      <td>45000.0</td>\n",
       "      <td>45000.0</td>\n",
       "      <td>45000.0</td>\n",
       "    </tr>\n",
       "    <tr>\n",
       "      <th>male</th>\n",
       "      <td>5.0</td>\n",
       "      <td>68250.0</td>\n",
       "      <td>42679.766869</td>\n",
       "      <td>11250.0</td>\n",
       "      <td>55000.0</td>\n",
       "      <td>55000.0</td>\n",
       "      <td>100000.0</td>\n",
       "      <td>120000.0</td>\n",
       "    </tr>\n",
       "  </tbody>\n",
       "</table>\n",
       "</div>"
      ],
      "text/plain": [
       "       income16                                                              \\\n",
       "          count     mean           std      min      25%      50%       75%   \n",
       "sex                                                                           \n",
       "female      1.0  45000.0           NaN  45000.0  45000.0  45000.0   45000.0   \n",
       "male        5.0  68250.0  42679.766869  11250.0  55000.0  55000.0  100000.0   \n",
       "\n",
       "                  \n",
       "             max  \n",
       "sex               \n",
       "female   45000.0  \n",
       "male    120000.0  "
      ]
     },
     "execution_count": 63,
     "metadata": {},
     "output_type": "execute_result"
    }
   ],
   "source": [
    "df_militaryindus = df.loc[(df['indus10'] == \"Military Specific Occupations\")]\n",
    "df_militaryindus.loc[:,['sex','income16']].groupby('sex').describe()"
   ]
  },
  {
   "cell_type": "markdown",
   "id": "906452cf-3d9e-4153-a5e8-980fb72a1c14",
   "metadata": {},
   "source": [
    "From the chart, it is apparent that males tend to earn more than females in essentially all occupational categories. The income disparity is visible across the board but varies in magnitude between different occupations.\n",
    "\n",
    "The narrowest gaps appear in \"Sales and Office Occupations\" and \"Service Occupations,\" where the bars are closer in height. The most substantial gaps are observable in \"Management, Business, Science, and Arts Occupations\" and \"Military Specific Occupations,\" where the blue bars are noticeably taller than the orange bars. It is difficult to explain these disparities, as they are caused my multiple factors, including but not limited to: discrimination, work experience, education attainment, etc."
   ]
  },
  {
   "cell_type": "markdown",
   "id": "354fe79f-9daa-466d-b6ae-f42dcbac7074",
   "metadata": {},
   "source": [
    "# Conclusion "
   ]
  },
  {
   "cell_type": "markdown",
   "id": "8a909edc-3ae6-4a4c-b2d7-7d436bd7d9e7",
   "metadata": {},
   "source": [
    "This project aimed to analyze the factors that underpin the gender wage gap that much of society is familiar with, because by doing so it allows decision makers to target their interventions in the areas that actually matter. To accomplish this, variables around age, marital status, and education were chosen as factors that are often considered to be responsible for the disparity. The data for these was cleaned inorder to make analysis and visualizations more streamlined, with all changes being documented for future replication. Ultimately, a baseline difference of 19.8% was established, with subsequent analysis focusing on how that baseline related to more individualized comparisons. For age, the most notable finding was a difference of only 9% among our youngest comparison group, indicating that either progress has been made to shrink this gap or that wage disparities manifest later in life. This contrasted sharply with our findings in the very old category, demonstrating a difference of 60% that we hypothesized stemmed from women lacking many career options 70 years ago.\n",
    "\n",
    "Next the analysis centered on marital status, which demonstrated that generally those who identified as married or never married were found to have the smallest wage gap between men and women. Divorcees exhibited a slightly smaller wage gap than those who are separated and widowed. This is indicative of women who have once been married facing the most income disparity, perhaps due to the consequential financial burden that comes with the loss of a partner. The smallest income gap occurring between married men and women may be due to society’s generally higher view of married women (as opposed to unmarried women) being more deserving of a higher-paying salary.\n",
    "\n",
    "Finally, the focus shifted onto the role of education and its impact. Through this we found that the gap was the highest for the lowest levels of education and generally decreased as the level of education increased up to the graduate level. These findings lend credence to the idea that education can serve as an equalizer across demographic groups. \n",
    "\n",
    "Despite what we consider to be extremely strong findings, we recognize that others will likely have criticism for various parts of the process. One area is undoubtedly the variables we included, as we did not consider the role of occupation, location, or the impact of children upon the wage gap. While these are all important factors, we ultimately decided to keep our analysis more focused as including all of those factors, with proper explanations, was outside of this project’s scope. Notably, we recognize that looking at the number of children would have shed more light onto the dynamics we hypothesized in the above section on marital status. There will also likely be criticism for focusing on a traditional, quantitative metric like income compared to the social well being indicators that have increased in popularity with time. While these SWB metrics are often touted as being more descriptive of someone’s true happiness, we regarded them as being both sufficient enough for an entirely separate study as well as being more non objective than the variables we were seeking. \n",
    "\n",
    "By no means should our work be considered all encompassing, as the above section indicates the numerous other aspects that all play into the wage gap. Future work should focus on creating more localized datasets and carrying out a similar analysis to this one. As more information about the gender wage gap becomes common knowledge, it would be useful to track what cities/regions are doing a better job of countering it. This might also shed light into the underlying dynamics of a localized wage gap. Say if a town supported heavy industry that women did not work in, but instead filled a different job or the cost of living was low enough that they did not have to work as much. Understanding all of these dynamics is important for understanding the true impact of wage disparities. Another path for future work should focus on subjective well being, something that was discussed earlier in this paper. Income is not always the ultimate metric of someone’s life, and there are times when people are completely satisfied with their current situations and lifestyle. This too is important, as highlighting a wage disparity that is actually favored by its respondents should not hold the same weight as a situation where women are actively seeking better wages. \n"
   ]
  }
 ],
 "metadata": {
  "kernelspec": {
   "display_name": "Python 3",
   "language": "python",
   "name": "python3"
  },
  "language_info": {
   "codemirror_mode": {
    "name": "ipython",
    "version": 3
   },
   "file_extension": ".py",
   "mimetype": "text/x-python",
   "name": "python",
   "nbconvert_exporter": "python",
   "pygments_lexer": "ipython3",
   "version": "3.9.18"
  }
 },
 "nbformat": 4,
 "nbformat_minor": 5
}
