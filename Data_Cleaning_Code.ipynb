{
  "nbformat": 4,
  "nbformat_minor": 0,
  "metadata": {
    "colab": {
      "provenance": [],
      "authorship_tag": "ABX9TyPVN6bcOUSnz5UsYTwHKiCk",
      "include_colab_link": true
    },
    "kernelspec": {
      "name": "python3",
      "display_name": "Python 3"
    },
    "language_info": {
      "name": "python"
    }
  },
  "cells": [
    {
      "cell_type": "markdown",
      "metadata": {
        "id": "view-in-github",
        "colab_type": "text"
      },
      "source": [
        "<a href=\"https://colab.research.google.com/github/michellehkim280/GSS-Project/blob/main/Data_Cleaning_Code.ipynb\" target=\"_parent\"><img src=\"https://colab.research.google.com/assets/colab-badge.svg\" alt=\"Open In Colab\"/></a>"
      ]
    },
    {
      "cell_type": "code",
      "execution_count": 8,
      "metadata": {
        "colab": {
          "base_uri": "https://localhost:8080/"
        },
        "id": "oCrBUAadbaoQ",
        "outputId": "34d310b6-de7d-4709-8093-400986251117"
      },
      "outputs": [
        {
          "output_type": "stream",
          "name": "stdout",
          "text": [
            "fatal: destination path 'project_gss' already exists and is not an empty directory.\n"
          ]
        }
      ],
      "source": [
        "! git clone https://github.com/DS3001/project_gss\n",
        "import numpy as np\n",
        "import pandas as pd\n",
        "import matplotlib.pyplot as plt\n",
        "import seaborn as sns\n",
        "import os\n",
        "from sklearn.model_selection import train_test_split\n",
        "from sklearn.metrics import mean_squared_error\n",
        "from sklearn.neighbors import KNeighborsRegressor"
      ]
    },
    {
      "cell_type": "code",
      "source": [
        "var_list = ['wrkstat', 'prestige'] # List of variables you want to save\n",
        "output_filename = 'selected_gss_data.csv' # Name of the file you want to save the data to\n",
        "\n",
        "modes = ['w','a'] # Has write mode and append mode\n",
        "phase = 0 # Starts in write mode; after one iteration of loop, switches to append mode\n",
        "\n",
        "for k in range(3): # for each chunk of the data\n",
        "    url = 'https://github.com/DS3001/project_gss/raw/main/gss_chunk_' + str(1+k) + '.parquet' # Create url to the chunk to be processed\n",
        "    #print(url) # Check the url is correct\n",
        "    df = pd.read_parquet(url) # Download this chunk of data\n",
        "    #print(df.head()) # Visually inspect the first few rows\n",
        "\n",
        "    phase = 1 # Switch from write mode to append mode\n",
        "\n",
        "print(df.shape)\n",
        "df.columns\n",
        "# 6694 columns/variables"
      ],
      "metadata": {
        "colab": {
          "base_uri": "https://localhost:8080/"
        },
        "id": "Dj6ayXbmbjJC",
        "outputId": "9bebb53b-dfae-4262-d744-d57be7ac1712"
      },
      "execution_count": 2,
      "outputs": [
        {
          "output_type": "stream",
          "name": "stdout",
          "text": [
            "(24130, 6694)\n"
          ]
        },
        {
          "output_type": "execute_result",
          "data": {
            "text/plain": [
              "Index(['year', 'id', 'wrkstat', 'hrs1', 'hrs2', 'evwork', 'occ', 'prestige',\n",
              "       'wrkslf', 'wrkgovt',\n",
              "       ...\n",
              "       'agehef12', 'agehef13', 'agehef14', 'hompoph', 'wtssps_nea',\n",
              "       'wtssnrps_nea', 'wtssps_next', 'wtssnrps_next', 'wtsscomp',\n",
              "       'wtsscompnr'],\n",
              "      dtype='object', length=6694)"
            ]
          },
          "metadata": {},
          "execution_count": 2
        }
      ]
    },
    {
      "cell_type": "code",
      "source": [
        "# Creating new data frame with certain, potentially relevant variables\n",
        "df2 = df[['age', 'sex', 'race', 'degree', 'health', 'happy',\n",
        "          'marital', 'martype', 'agewed', 'hrs2', 'indus10',\n",
        "          'agekdbrn', 'childs', 'class', 'income16']]\n",
        "#print(df2.dtypes, '\\n')\n",
        "print(df2.tail())\n",
        "print(list(df2.columns))\n",
        "\n",
        "#df2 = df.copy()\n",
        "# age (N)\n",
        "# sex (C) : male or female\n",
        "# race (C)\n",
        "# degree (C)\n",
        "# health (C) : poor, fair, good, excellent\n",
        "# happy (C) : level\n",
        "# marital (C) : status\n",
        "# martype (C) : type of marriage\n",
        "# agewed (N) : age married\n",
        "# wrkstat : part-time, full-time, school, keeping house\n",
        "# hrs2 (N) : typical weekly hrs worked\n",
        "# wrkslf (C) : self employed?\n",
        "# wrkgovt1 (C) : government employeed\n",
        "# wrkgovt2 (C) : private employeed\n",
        "# whatslf2 (C) : work place classification\n",
        "# ind10 (N) : work industry\n",
        "# agekdbrn (N) : age when 1st kd born\n",
        "# childs (N) : # of kids\n",
        "# class (C) : economic (self-evaluated)\n",
        "# income16 (N) : range total family income"
      ],
      "metadata": {
        "colab": {
          "base_uri": "https://localhost:8080/"
        },
        "id": "zOFO83hAcNXX",
        "outputId": "fa8a7b96-68f8-46e9-e7bc-bd8297979f11"
      },
      "execution_count": 3,
      "outputs": [
        {
          "output_type": "stream",
          "name": "stdout",
          "text": [
            "        age     sex   race                    degree health         happy  \\\n",
            "24125  22.0  female  white               high school   good  pretty happy   \n",
            "24126  29.0  female  white                  graduate   good  pretty happy   \n",
            "24127  32.0    male  white  associate/junior college   good  pretty happy   \n",
            "24128  49.0  female  white                  graduate   good    very happy   \n",
            "24129  50.0    male  white                  graduate   fair  pretty happy   \n",
            "\n",
            "             marital                             martype  agewed  hrs2  \\\n",
            "24125  never married                                 NaN     NaN   NaN   \n",
            "24126        married                                 NaN     NaN   NaN   \n",
            "24127  never married                                 NaN     NaN   NaN   \n",
            "24128        married  marriage between a man and a woman     NaN   NaN   \n",
            "24129        married  marriage between a man and a woman     NaN   NaN   \n",
            "\n",
            "       indus10  agekdbrn  childs          class              income16  \n",
            "24125   8660.0       NaN     0.0    lower class    $25,000 to $29,999  \n",
            "24126   8190.0      25.0     2.0  working class    $60,000 to $74,999  \n",
            "24127   8190.0      28.0     1.0   middle class  $130,000 to $149,999  \n",
            "24128   7860.0       NaN     0.0   middle class  $150,000 to $169,999  \n",
            "24129   9170.0      42.0     1.0   middle class   $90,000 to $109,999  \n",
            "['age', 'sex', 'race', 'degree', 'health', 'happy', 'marital', 'martype', 'agewed', 'hrs2', 'indus10', 'agekdbrn', 'childs', 'class', 'income16']\n"
          ]
        }
      ]
    },
    {
      "cell_type": "code",
      "source": [
        "# Sex\n",
        "df2['sex'] = df['sex'].apply(lambda x: x if x in ['male', 'female'] else pd.NA)\n",
        "\n",
        "# Age - leave as is\n",
        "\n",
        "# Race\n",
        "df2['race'] = df['race'].apply(lambda x: x if x in ['white', 'black', 'other'] else pd.NA)\n",
        "\n",
        "\n",
        "# Degree\n",
        "df2['degree'] = df['degree'].apply(lambda x: x if x in ['high school', \"bachelors\",\n",
        "                                                        'graduate', 'less than high school',\n",
        "                                                        'associate/junior college'] else pd.NA)\n",
        "\n",
        "# Health\n",
        "df2['health'] = df['health'].apply(lambda x: x if x in ['poor', 'fair', 'excellent', 'good'] else pd.NA)\n",
        "\n",
        "\n",
        "# Happy\n",
        "df2['happy'] = df['happy'].apply(lambda x: x if x in ['very happy', 'pretty happy', 'not too happy'] else pd.NA)\n",
        "\n",
        "# Marital\n",
        "df2['marital'] = df['marital'].apply(lambda x: x if x in ['married', 'never married',\n",
        "                                                          'divorced', 'widowed',\n",
        "                                                          'separated'] else pd.NA)\n",
        "df2.dropna(subset=['marital'], inplace=True)\n",
        "\n",
        "# martype\n",
        "df2['martype'] = df['martype'].apply(lambda x: x if x in ['marriage between a man and a woman',\n",
        "                                                          'marriage between two people of the same gender'] else pd.NA)\n",
        "\n",
        "# agewed - leave as is\n",
        "\n",
        "# indus10\n",
        "df2['indus10'] = pd.to_numeric(df2['indus10'], errors='coerce')\n",
        "bins = [0, 3540, 4650, 5940, 7630, 9750, 9830, float('inf')]\n",
        "labels = ['Management, Business, Science, and Arts Occupations',\n",
        "          'Service Occupations',\n",
        "          'Sales and Office Occupations',\n",
        "          'Natural Resources, Construction, and Maintenance Occupations',\n",
        "          'Production, Transportation, and Material Moving Occupations',\n",
        "          'Military Specific Occupations',\n",
        "          'Other']\n",
        "\n",
        "df2['indus10'] = pd.cut(df2['indus10'], bins=bins, labels=labels, include_lowest=True, right=False)\n",
        "#df2['indus10'] = df2['indus10'].fillna('Unemployed')\n",
        "\n",
        "\n",
        "# hrs2 - leave as is\n",
        "\n",
        "# Childs\n",
        "df2['childs'] = df['childs'].apply(lambda x: x if x in [0.0, 2.0, 3.0, 1.0, 4.0, 5.0, 6.0, 8.0, 7.0] else pd.NA)\n",
        "\n",
        "# Class\n",
        "df2['class'] = df['class'].apply(lambda x: x if x in ['middle class', 'working class', 'lower class', 'upper class'] else pd.NA)\n",
        "\n",
        "# agekdbrn - leave as is\n",
        "\n",
        "# Income16\n",
        "df2['income16'] = df['income16'].apply(lambda x: x if x in ['$60,000 to $74,999', '$170,000 or over', '$75,000 to $89,999', '$90,000 to $109,999',\n",
        "                                                           '$50,000 to $59,999', '$40,000 to $49,999', '$110,000 to $129,999', '$30,000 to $34,999',\n",
        "                                                            '$35,000 to $39,999', '$130,000 to $149,999', '$25,000 to $29,999', '$150,000 to $169,999',\n",
        "                                                            '$10,000 to $12,499', '$22,500 to $24,999', '$20,000 to $22,499', '$12,500 to $14,999',\n",
        "                                                            '$15,000 to $17,499', '$17,500 to $19,999', '$8,000 to $9,999', 'under $1,000',\n",
        "                                                            '$1,000 to $2,999', '$3,000 to $3,999', '$7,000 to $7,999', '$5,000 to $5,999',\n",
        "                                                            '$6,000 to $6,999', '$4,000 to $4,999'] else pd.NA)\n",
        "\n"
      ],
      "metadata": {
        "colab": {
          "base_uri": "https://localhost:8080/"
        },
        "id": "Npg6IPZVe1Kn",
        "outputId": "3af5508e-e1ae-49a6-924b-287ad9954eb3"
      },
      "execution_count": 4,
      "outputs": [
        {
          "output_type": "stream",
          "name": "stderr",
          "text": [
            "<ipython-input-4-99f8e0847e90>:2: SettingWithCopyWarning: \n",
            "A value is trying to be set on a copy of a slice from a DataFrame.\n",
            "Try using .loc[row_indexer,col_indexer] = value instead\n",
            "\n",
            "See the caveats in the documentation: https://pandas.pydata.org/pandas-docs/stable/user_guide/indexing.html#returning-a-view-versus-a-copy\n",
            "  df2['sex'] = df['sex'].apply(lambda x: x if x in ['male', 'female'] else pd.NA)\n",
            "<ipython-input-4-99f8e0847e90>:7: SettingWithCopyWarning: \n",
            "A value is trying to be set on a copy of a slice from a DataFrame.\n",
            "Try using .loc[row_indexer,col_indexer] = value instead\n",
            "\n",
            "See the caveats in the documentation: https://pandas.pydata.org/pandas-docs/stable/user_guide/indexing.html#returning-a-view-versus-a-copy\n",
            "  df2['race'] = df['race'].apply(lambda x: x if x in ['white', 'black', 'other'] else pd.NA)\n",
            "<ipython-input-4-99f8e0847e90>:11: SettingWithCopyWarning: \n",
            "A value is trying to be set on a copy of a slice from a DataFrame.\n",
            "Try using .loc[row_indexer,col_indexer] = value instead\n",
            "\n",
            "See the caveats in the documentation: https://pandas.pydata.org/pandas-docs/stable/user_guide/indexing.html#returning-a-view-versus-a-copy\n",
            "  df2['degree'] = df['degree'].apply(lambda x: x if x in ['high school', \"bachelors\",\n",
            "<ipython-input-4-99f8e0847e90>:16: SettingWithCopyWarning: \n",
            "A value is trying to be set on a copy of a slice from a DataFrame.\n",
            "Try using .loc[row_indexer,col_indexer] = value instead\n",
            "\n",
            "See the caveats in the documentation: https://pandas.pydata.org/pandas-docs/stable/user_guide/indexing.html#returning-a-view-versus-a-copy\n",
            "  df2['health'] = df['health'].apply(lambda x: x if x in ['poor', 'fair', 'excellent', 'good'] else pd.NA)\n",
            "<ipython-input-4-99f8e0847e90>:20: SettingWithCopyWarning: \n",
            "A value is trying to be set on a copy of a slice from a DataFrame.\n",
            "Try using .loc[row_indexer,col_indexer] = value instead\n",
            "\n",
            "See the caveats in the documentation: https://pandas.pydata.org/pandas-docs/stable/user_guide/indexing.html#returning-a-view-versus-a-copy\n",
            "  df2['happy'] = df['happy'].apply(lambda x: x if x in ['very happy', 'pretty happy', 'not too happy'] else pd.NA)\n",
            "<ipython-input-4-99f8e0847e90>:23: SettingWithCopyWarning: \n",
            "A value is trying to be set on a copy of a slice from a DataFrame.\n",
            "Try using .loc[row_indexer,col_indexer] = value instead\n",
            "\n",
            "See the caveats in the documentation: https://pandas.pydata.org/pandas-docs/stable/user_guide/indexing.html#returning-a-view-versus-a-copy\n",
            "  df2['marital'] = df['marital'].apply(lambda x: x if x in ['married', 'never married',\n",
            "<ipython-input-4-99f8e0847e90>:26: SettingWithCopyWarning: \n",
            "A value is trying to be set on a copy of a slice from a DataFrame\n",
            "\n",
            "See the caveats in the documentation: https://pandas.pydata.org/pandas-docs/stable/user_guide/indexing.html#returning-a-view-versus-a-copy\n",
            "  df2.dropna(subset=['marital'], inplace=True)\n",
            "<ipython-input-4-99f8e0847e90>:29: SettingWithCopyWarning: \n",
            "A value is trying to be set on a copy of a slice from a DataFrame.\n",
            "Try using .loc[row_indexer,col_indexer] = value instead\n",
            "\n",
            "See the caveats in the documentation: https://pandas.pydata.org/pandas-docs/stable/user_guide/indexing.html#returning-a-view-versus-a-copy\n",
            "  df2['martype'] = df['martype'].apply(lambda x: x if x in ['marriage between a man and a woman',\n",
            "<ipython-input-4-99f8e0847e90>:35: SettingWithCopyWarning: \n",
            "A value is trying to be set on a copy of a slice from a DataFrame.\n",
            "Try using .loc[row_indexer,col_indexer] = value instead\n",
            "\n",
            "See the caveats in the documentation: https://pandas.pydata.org/pandas-docs/stable/user_guide/indexing.html#returning-a-view-versus-a-copy\n",
            "  df2['indus10'] = pd.to_numeric(df2['indus10'], errors='coerce')\n",
            "<ipython-input-4-99f8e0847e90>:45: SettingWithCopyWarning: \n",
            "A value is trying to be set on a copy of a slice from a DataFrame.\n",
            "Try using .loc[row_indexer,col_indexer] = value instead\n",
            "\n",
            "See the caveats in the documentation: https://pandas.pydata.org/pandas-docs/stable/user_guide/indexing.html#returning-a-view-versus-a-copy\n",
            "  df2['indus10'] = pd.cut(df2['indus10'], bins=bins, labels=labels, include_lowest=True, right=False)\n",
            "<ipython-input-4-99f8e0847e90>:52: SettingWithCopyWarning: \n",
            "A value is trying to be set on a copy of a slice from a DataFrame.\n",
            "Try using .loc[row_indexer,col_indexer] = value instead\n",
            "\n",
            "See the caveats in the documentation: https://pandas.pydata.org/pandas-docs/stable/user_guide/indexing.html#returning-a-view-versus-a-copy\n",
            "  df2['childs'] = df['childs'].apply(lambda x: x if x in [0.0, 2.0, 3.0, 1.0, 4.0, 5.0, 6.0, 8.0, 7.0] else pd.NA)\n",
            "<ipython-input-4-99f8e0847e90>:55: SettingWithCopyWarning: \n",
            "A value is trying to be set on a copy of a slice from a DataFrame.\n",
            "Try using .loc[row_indexer,col_indexer] = value instead\n",
            "\n",
            "See the caveats in the documentation: https://pandas.pydata.org/pandas-docs/stable/user_guide/indexing.html#returning-a-view-versus-a-copy\n",
            "  df2['class'] = df['class'].apply(lambda x: x if x in ['middle class', 'working class', 'lower class', 'upper class'] else pd.NA)\n",
            "<ipython-input-4-99f8e0847e90>:60: SettingWithCopyWarning: \n",
            "A value is trying to be set on a copy of a slice from a DataFrame.\n",
            "Try using .loc[row_indexer,col_indexer] = value instead\n",
            "\n",
            "See the caveats in the documentation: https://pandas.pydata.org/pandas-docs/stable/user_guide/indexing.html#returning-a-view-versus-a-copy\n",
            "  df2['income16'] = df['income16'].apply(lambda x: x if x in ['$60,000 to $74,999', '$170,000 or over', '$75,000 to $89,999', '$90,000 to $109,999',\n"
          ]
        }
      ]
    },
    {
      "cell_type": "code",
      "source": [
        "for value, count in df2['indus10'].value_counts().items():\n",
        "    print(f\"{value}: {count} times\")\n",
        "\n",
        "nan_count = df2['indus10'].isna().sum()\n",
        "print(f\"nans:{nan_count}\")"
      ],
      "metadata": {
        "colab": {
          "base_uri": "https://localhost:8080/"
        },
        "id": "l07z6wc7fE-3",
        "outputId": "cfd27700-cb42-4128-c478-42ae925c9c81"
      },
      "execution_count": 5,
      "outputs": [
        {
          "output_type": "stream",
          "name": "stdout",
          "text": [
            "Production, Transportation, and Material Moving Occupations: 10705 times\n",
            "Natural Resources, Construction, and Maintenance Occupations: 4615 times\n",
            "Management, Business, Science, and Arts Occupations: 3967 times\n",
            "Sales and Office Occupations: 2179 times\n",
            "Service Occupations: 1337 times\n",
            "Other: 70 times\n",
            "Military Specific Occupations: 47 times\n",
            "nans:1169\n"
          ]
        }
      ]
    },
    {
      "cell_type": "code",
      "source": [
        "print(df2.tail())"
      ],
      "metadata": {
        "colab": {
          "base_uri": "https://localhost:8080/"
        },
        "id": "huQ96xlCffFV",
        "outputId": "20d668ae-7822-4237-d16c-962d7152c592"
      },
      "execution_count": 6,
      "outputs": [
        {
          "output_type": "stream",
          "name": "stdout",
          "text": [
            "        age     sex   race                    degree health         happy  \\\n",
            "24125  22.0  female  white               high school   good  pretty happy   \n",
            "24126  29.0  female  white                  graduate   good  pretty happy   \n",
            "24127  32.0    male  white  associate/junior college   good  pretty happy   \n",
            "24128  49.0  female  white                  graduate   good    very happy   \n",
            "24129  50.0    male  white                  graduate   fair  pretty happy   \n",
            "\n",
            "             marital                             martype  agewed  hrs2  \\\n",
            "24125  never married                                 NaN     NaN   NaN   \n",
            "24126        married                                 NaN     NaN   NaN   \n",
            "24127  never married                                 NaN     NaN   NaN   \n",
            "24128        married  marriage between a man and a woman     NaN   NaN   \n",
            "24129        married  marriage between a man and a woman     NaN   NaN   \n",
            "\n",
            "                                                 indus10  agekdbrn childs  \\\n",
            "24125  Production, Transportation, and Material Movin...       NaN    0.0   \n",
            "24126  Production, Transportation, and Material Movin...      25.0    2.0   \n",
            "24127  Production, Transportation, and Material Movin...      28.0    1.0   \n",
            "24128  Production, Transportation, and Material Movin...       NaN    0.0   \n",
            "24129  Production, Transportation, and Material Movin...      42.0    1.0   \n",
            "\n",
            "               class              income16  \n",
            "24125    lower class    $25,000 to $29,999  \n",
            "24126  working class    $60,000 to $74,999  \n",
            "24127   middle class  $130,000 to $149,999  \n",
            "24128   middle class  $150,000 to $169,999  \n",
            "24129   middle class   $90,000 to $109,999  \n"
          ]
        }
      ]
    },
    {
      "cell_type": "code",
      "source": [
        "df2.to_csv('final_cleaned_data!.csv', index=False)"
      ],
      "metadata": {
        "id": "lQkd4bTHfkiQ"
      },
      "execution_count": 7,
      "outputs": []
    }
  ]
}